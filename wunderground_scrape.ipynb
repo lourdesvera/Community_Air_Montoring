{
  "nbformat": 4,
  "nbformat_minor": 0,
  "metadata": {
    "colab": {
      "name": "VOC_Conversions.ipynb",
      "provenance": [],
      "collapsed_sections": [],
      "toc_visible": true,
      "include_colab_link": true
    },
    "kernelspec": {
      "name": "ir",
      "display_name": "R"
    }
  },
  "cells": [
    {
      "cell_type": "markdown",
      "metadata": {
        "id": "view-in-github",
        "colab_type": "text"
      },
      "source": [
        "<a href=\"https://colab.research.google.com/github/lourdesvera/Community_Air_Montoring/blob/master/wunderground_scrape.ipynb\" target=\"_parent\"><img src=\"https://colab.research.google.com/assets/colab-badge.svg\" alt=\"Open In Colab\"/></a>"
      ]
    },
    {
      "cell_type": "markdown",
      "metadata": {
        "id": "AtxyCnlCcAi1"
      },
      "source": [
        "# **VOC Conversions and Threshold Comparisons**"
      ]
    },
    {
      "cell_type": "markdown",
      "metadata": {
        "id": "1M8Wrd50Zyfr"
      },
      "source": [
        "## Installing libraries"
      ]
    },
    {
      "cell_type": "code",
      "metadata": {
        "id": "MDTDkIGjn6h9",
        "colab": {
          "base_uri": "https://localhost:8080/"
        },
        "outputId": "061a888c-ec95-47fb-9255-de001cef8cd2"
      },
      "source": [
        "install.packages('tidyverse')\n",
        "install.packages('googlesheets4')\n",
        "install.packages('naniar')\n",
        "install.packages('datetime')"
      ],
      "execution_count": null,
      "outputs": [
        {
          "output_type": "stream",
          "text": [
            "Installing package into ‘/usr/local/lib/R/site-library’\n",
            "(as ‘lib’ is unspecified)\n",
            "\n",
            "Installing package into ‘/usr/local/lib/R/site-library’\n",
            "(as ‘lib’ is unspecified)\n",
            "\n",
            "also installing the dependencies ‘gargle’, ‘googledrive’, ‘ids’\n",
            "\n",
            "\n",
            "Installing package into ‘/usr/local/lib/R/site-library’\n",
            "(as ‘lib’ is unspecified)\n",
            "\n",
            "also installing the dependencies ‘gridExtra’, ‘plyr’, ‘visdat’, ‘viridis’, ‘UpSetR’\n",
            "\n",
            "\n",
            "Installing package into ‘/usr/local/lib/R/site-library’\n",
            "(as ‘lib’ is unspecified)\n",
            "\n"
          ],
          "name": "stderr"
        }
      ]
    },
    {
      "cell_type": "markdown",
      "metadata": {
        "id": "RZ1-XnpzZ1uA"
      },
      "source": [
        "## Importing libraries"
      ]
    },
    {
      "cell_type": "code",
      "metadata": {
        "id": "H6opECZygIYB",
        "colab": {
          "base_uri": "https://localhost:8080/"
        },
        "outputId": "c4858df0-cd8c-4585-840a-0d693acec283"
      },
      "source": [
        "library(tidyverse)\n",
        "library(googlesheets4)\n",
        "library(naniar)"
      ],
      "execution_count": null,
      "outputs": [
        {
          "output_type": "stream",
          "text": [
            "── \u001b[1mAttaching packages\u001b[22m ─────────────────────────────────────── tidyverse 1.3.0 ──\n",
            "\n",
            "\u001b[32m✔\u001b[39m \u001b[34mggplot2\u001b[39m 3.3.3     \u001b[32m✔\u001b[39m \u001b[34mpurrr  \u001b[39m 0.3.4\n",
            "\u001b[32m✔\u001b[39m \u001b[34mtibble \u001b[39m 3.0.6     \u001b[32m✔\u001b[39m \u001b[34mdplyr  \u001b[39m 1.0.4\n",
            "\u001b[32m✔\u001b[39m \u001b[34mtidyr  \u001b[39m 1.1.2     \u001b[32m✔\u001b[39m \u001b[34mstringr\u001b[39m 1.4.0\n",
            "\u001b[32m✔\u001b[39m \u001b[34mreadr  \u001b[39m 1.4.0     \u001b[32m✔\u001b[39m \u001b[34mforcats\u001b[39m 0.5.1\n",
            "\n",
            "── \u001b[1mConflicts\u001b[22m ────────────────────────────────────────── tidyverse_conflicts() ──\n",
            "\u001b[31m✖\u001b[39m \u001b[34mdplyr\u001b[39m::\u001b[32mfilter()\u001b[39m masks \u001b[34mstats\u001b[39m::filter()\n",
            "\u001b[31m✖\u001b[39m \u001b[34mdplyr\u001b[39m::\u001b[32mlag()\u001b[39m    masks \u001b[34mstats\u001b[39m::lag()\n",
            "\n"
          ],
          "name": "stderr"
        }
      ]
    },
    {
      "cell_type": "markdown",
      "metadata": {
        "id": "PgkOgwYnoGxQ"
      },
      "source": [
        "##Import Data"
      ]
    },
    {
      "cell_type": "code",
      "metadata": {
        "id": "CCbV_8GPmi43",
        "colab": {
          "base_uri": "https://localhost:8080/"
        },
        "outputId": "ba5d7968-cf89-44aa-af86-2a4f5ebf0a37"
      },
      "source": [
        "# Parameters\n",
        "gs4_deauth()\n",
        "\n",
        "  # Sheet ID for Gapminder example\n",
        "  #results from testing\n",
        "id <- \"1XGGJ15QhHxSQFGj6uQMIEAcseaRSmX50xLLWEbi9-44\"\n",
        "data <- read_sheet(ss = id)\n",
        "#threshold directory\n",
        "id2 <- \"1a-AqhxRlWil1Gy6i6PvtsZdyEjZ-Blhb_aX4sdoVjzw\"\n",
        "info <- read_sheet(ss= id2)"
      ],
      "execution_count": null,
      "outputs": [
        {
          "output_type": "stream",
          "text": [
            "Reading from \"VOC_analysis.csv\"\n",
            "\n",
            "Range \"VOC_data.csv\"\n",
            "\n",
            "Reading from \"compound_threshold_directory\"\n",
            "\n",
            "Range \"Table of Contents \"\n",
            "\n",
            "New names:\n",
            "* `` -> ...2\n",
            "* `` -> ...3\n",
            "\n"
          ],
          "name": "stderr"
        }
      ]
    },
    {
      "cell_type": "markdown",
      "metadata": {
        "id": "ZrDT0pU0mOeF"
      },
      "source": [
        "##Duplicate Check"
      ]
    },
    {
      "cell_type": "markdown",
      "metadata": {
        "id": "ge_ZI8RqnvBF"
      },
      "source": [
        "TXBVOC5b_ugm3 - TXBVOC5a_ugm3\n",
        "\n",
        "A.1.C - A.1.D\n",
        "\n",
        "A.2.E - A.2.F\n",
        "\n",
        "A.3.E - A.3.F\n",
        "\n",
        "A.1.A - A.1.B"
      ]
    },
    {
      "cell_type": "code",
      "metadata": {
        "id": "Oi6gMr1PjZOM",
        "colab": {
          "base_uri": "https://localhost:8080/",
          "height": 158
        },
        "outputId": "d40de9de-46da-441c-89c9-db76a4b72209"
      },
      "source": [
        "#Round 1\n",
        "wilcox.test(data$TXBVOC5b_ugm3, data$TXBVOC5a_ugm3)"
      ],
      "execution_count": null,
      "outputs": [
        {
          "output_type": "stream",
          "text": [
            "Warning message in wilcox.test.default(data$TXBVOC5b_ugm3, data$TXBVOC5a_ugm3):\n",
            "“cannot compute exact p-value with ties”\n"
          ],
          "name": "stderr"
        },
        {
          "output_type": "display_data",
          "data": {
            "text/plain": [
              "\n",
              "\tWilcoxon rank sum test with continuity correction\n",
              "\n",
              "data:  data$TXBVOC5b_ugm3 and data$TXBVOC5a_ugm3\n",
              "W = 589, p-value = 0.3043\n",
              "alternative hypothesis: true location shift is not equal to 0\n"
            ]
          },
          "metadata": {
            "tags": []
          }
        }
      ]
    },
    {
      "cell_type": "code",
      "metadata": {
        "id": "oa7EopBForOO",
        "colab": {
          "base_uri": "https://localhost:8080/",
          "height": 158
        },
        "outputId": "7330ae9d-5b79-4a8b-9b10-75658976ca92"
      },
      "source": [
        "#Round 2\n",
        "wilcox.test(data$TXA.1.A_ugm3, data$TXA.1.B_ugm3)"
      ],
      "execution_count": null,
      "outputs": [
        {
          "output_type": "stream",
          "text": [
            "Warning message in wilcox.test.default(data$TXA.1.A_ugm3, data$TXA.1.B_ugm3):\n",
            "“cannot compute exact p-value with ties”\n"
          ],
          "name": "stderr"
        },
        {
          "output_type": "display_data",
          "data": {
            "text/plain": [
              "\n",
              "\tWilcoxon rank sum test with continuity correction\n",
              "\n",
              "data:  data$TXA.1.A_ugm3 and data$TXA.1.B_ugm3\n",
              "W = 509, p-value = 0.9732\n",
              "alternative hypothesis: true location shift is not equal to 0\n"
            ]
          },
          "metadata": {
            "tags": []
          }
        }
      ]
    },
    {
      "cell_type": "code",
      "metadata": {
        "id": "gngIC_JwmQjC",
        "colab": {
          "base_uri": "https://localhost:8080/",
          "height": 158
        },
        "outputId": "791a6247-5188-453f-9183-b15269e3e73e"
      },
      "source": [
        "#Round 3\n",
        "wilcox.test(data$TXA.1.C_ugm3, data$TXA.1.D_ugm3)"
      ],
      "execution_count": null,
      "outputs": [
        {
          "output_type": "stream",
          "text": [
            "Warning message in wilcox.test.default(data$TXA.1.C_ugm3, data$TXA.1.D_ugm3):\n",
            "“cannot compute exact p-value with ties”\n"
          ],
          "name": "stderr"
        },
        {
          "output_type": "display_data",
          "data": {
            "text/plain": [
              "\n",
              "\tWilcoxon rank sum test with continuity correction\n",
              "\n",
              "data:  data$TXA.1.C_ugm3 and data$TXA.1.D_ugm3\n",
              "W = 645.5, p-value = 0.07346\n",
              "alternative hypothesis: true location shift is not equal to 0\n"
            ]
          },
          "metadata": {
            "tags": []
          }
        }
      ]
    },
    {
      "cell_type": "code",
      "metadata": {
        "id": "Vkj82M4Eoq2X",
        "colab": {
          "base_uri": "https://localhost:8080/",
          "height": 158
        },
        "outputId": "d4facb83-301b-41e2-d10f-8e5f904c2d96"
      },
      "source": [
        "#Round 4\n",
        "wilcox.test(data$TXA.2.E_ugm3, data$TXA.2.F_ugm3)"
      ],
      "execution_count": null,
      "outputs": [
        {
          "output_type": "stream",
          "text": [
            "Warning message in wilcox.test.default(data$TXA.2.E_ugm3, data$TXA.2.F_ugm3):\n",
            "“cannot compute exact p-value with ties”\n"
          ],
          "name": "stderr"
        },
        {
          "output_type": "display_data",
          "data": {
            "text/plain": [
              "\n",
              "\tWilcoxon rank sum test with continuity correction\n",
              "\n",
              "data:  data$TXA.2.E_ugm3 and data$TXA.2.F_ugm3\n",
              "W = 485.5, p-value = 0.7264\n",
              "alternative hypothesis: true location shift is not equal to 0\n"
            ]
          },
          "metadata": {
            "tags": []
          }
        }
      ]
    },
    {
      "cell_type": "code",
      "metadata": {
        "id": "ULgDLbEIorEJ",
        "colab": {
          "base_uri": "https://localhost:8080/",
          "height": 158
        },
        "outputId": "850ff7de-4c7e-414f-ee0c-61947d5f3b37"
      },
      "source": [
        "#Round 4\n",
        "wilcox.test(data$TXA.3.E_ugm3, data$TXA.3.F_ugm3)"
      ],
      "execution_count": null,
      "outputs": [
        {
          "output_type": "stream",
          "text": [
            "Warning message in wilcox.test.default(data$TXA.3.E_ugm3, data$TXA.3.F_ugm3):\n",
            "“cannot compute exact p-value with ties”\n"
          ],
          "name": "stderr"
        },
        {
          "output_type": "display_data",
          "data": {
            "text/plain": [
              "\n",
              "\tWilcoxon rank sum test with continuity correction\n",
              "\n",
              "data:  data$TXA.3.E_ugm3 and data$TXA.3.F_ugm3\n",
              "W = 520.5, p-value = 0.9143\n",
              "alternative hypothesis: true location shift is not equal to 0\n"
            ]
          },
          "metadata": {
            "tags": []
          }
        }
      ]
    },
    {
      "cell_type": "markdown",
      "metadata": {
        "id": "jr_MTsyskOaf"
      },
      "source": [
        "##Blank Check"
      ]
    },
    {
      "cell_type": "code",
      "metadata": {
        "id": "GNnB5biXVk4J"
      },
      "source": [
        "#average of blank\n",
        "data$blank.average <- data %>% \n",
        "select(starts_with(\"FB.\")) %>%\n",
        "rowMeans()"
      ],
      "execution_count": null,
      "outputs": []
    },
    {
      "cell_type": "code",
      "metadata": {
        "id": "VswcCr1xFFHv",
        "colab": {
          "base_uri": "https://localhost:8080/",
          "height": 33
        },
        "outputId": "c82154e3-43ea-48f0-beea-8bb45d4acba2"
      },
      "source": [
        "mean(data$blank.average)"
      ],
      "execution_count": null,
      "outputs": [
        {
          "output_type": "display_data",
          "data": {
            "text/plain": [
              "[1] 0.035875"
            ],
            "text/latex": "0.035875",
            "text/markdown": "0.035875",
            "text/html": [
              "0.035875"
            ]
          },
          "metadata": {
            "tags": []
          }
        }
      ]
    },
    {
      "cell_type": "code",
      "metadata": {
        "id": "2yXf44aBuBA2",
        "colab": {
          "base_uri": "https://localhost:8080/",
          "height": 158
        },
        "outputId": "37e1eda7-9f25-4a55-9134-74c031696c88"
      },
      "source": [
        "wilcox.test(data$FB.TXB.8.B_ugm3, 0)"
      ],
      "execution_count": null,
      "outputs": [
        {
          "output_type": "stream",
          "text": [
            "Warning message in wilcox.test.default(data$FB.TXB.8.B_ugm3, 0):\n",
            "“cannot compute exact p-value with ties”\n"
          ],
          "name": "stderr"
        },
        {
          "output_type": "display_data",
          "data": {
            "text/plain": [
              "\n",
              "\tWilcoxon rank sum test with continuity correction\n",
              "\n",
              "data:  data$FB.TXB.8.B_ugm3 and 0\n",
              "W = 22, p-value = 0.5009\n",
              "alternative hypothesis: true location shift is not equal to 0\n"
            ]
          },
          "metadata": {
            "tags": []
          }
        }
      ]
    },
    {
      "cell_type": "code",
      "metadata": {
        "id": "JVp6Vj8uPoj8",
        "colab": {
          "base_uri": "https://localhost:8080/",
          "height": 158
        },
        "outputId": "c3590f23-663c-4346-9354-13c93e12677d"
      },
      "source": [
        "wilcox.test(data$FB.TXBVOC1a_ugm3, 0)"
      ],
      "execution_count": null,
      "outputs": [
        {
          "output_type": "stream",
          "text": [
            "Warning message in wilcox.test.default(data$FB.TXBVOC1a_ugm3, 0):\n",
            "“cannot compute exact p-value with ties”\n"
          ],
          "name": "stderr"
        },
        {
          "output_type": "display_data",
          "data": {
            "text/plain": [
              "\n",
              "\tWilcoxon rank sum test with continuity correction\n",
              "\n",
              "data:  data$FB.TXBVOC1a_ugm3 and 0\n",
              "W = 24.5, p-value = 0.3718\n",
              "alternative hypothesis: true location shift is not equal to 0\n"
            ]
          },
          "metadata": {
            "tags": []
          }
        }
      ]
    },
    {
      "cell_type": "code",
      "metadata": {
        "id": "E4JYk_iaPo3I",
        "colab": {
          "base_uri": "https://localhost:8080/",
          "height": 158
        },
        "outputId": "8c4c7333-ffc6-48e2-85eb-abffed526c10"
      },
      "source": [
        "wilcox.test(data$FB.TXFB1_ugm3, 0)"
      ],
      "execution_count": null,
      "outputs": [
        {
          "output_type": "stream",
          "text": [
            "Warning message in wilcox.test.default(data$FB.TXFB1_ugm3, 0):\n",
            "“cannot compute exact p-value with ties”\n"
          ],
          "name": "stderr"
        },
        {
          "output_type": "display_data",
          "data": {
            "text/plain": [
              "\n",
              "\tWilcoxon rank sum test with continuity correction\n",
              "\n",
              "data:  data$FB.TXFB1_ugm3 and 0\n",
              "W = 28, p-value = 0.221\n",
              "alternative hypothesis: true location shift is not equal to 0\n"
            ]
          },
          "metadata": {
            "tags": []
          }
        }
      ]
    },
    {
      "cell_type": "code",
      "metadata": {
        "id": "_E7Yh5wbPpC2",
        "colab": {
          "base_uri": "https://localhost:8080/",
          "height": 158
        },
        "outputId": "97b24e8b-7d90-41b0-c1f3-fb8fb0118b9e"
      },
      "source": [
        "wilcox.test(data$FB.TXFB2_ugm3, 0)"
      ],
      "execution_count": null,
      "outputs": [
        {
          "output_type": "stream",
          "text": [
            "Warning message in wilcox.test.default(data$FB.TXFB2_ugm3, 0):\n",
            "“cannot compute exact p-value with ties”\n"
          ],
          "name": "stderr"
        },
        {
          "output_type": "display_data",
          "data": {
            "text/plain": [
              "\n",
              "\tWilcoxon rank sum test with continuity correction\n",
              "\n",
              "data:  data$FB.TXFB2_ugm3 and 0\n",
              "W = 23, p-value = 0.4451\n",
              "alternative hypothesis: true location shift is not equal to 0\n"
            ]
          },
          "metadata": {
            "tags": []
          }
        }
      ]
    },
    {
      "cell_type": "code",
      "metadata": {
        "id": "-Vv_396OPy45",
        "colab": {
          "base_uri": "https://localhost:8080/",
          "height": 158
        },
        "outputId": "0a46af21-f92c-4fc6-cf81-0f18a9c48587"
      },
      "source": [
        "wilcox.test(data$FB.TXFB3_ugm3, 0)"
      ],
      "execution_count": null,
      "outputs": [
        {
          "output_type": "stream",
          "text": [
            "Warning message in wilcox.test.default(data$FB.TXFB3_ugm3, 0):\n",
            "“cannot compute exact p-value with ties”\n"
          ],
          "name": "stderr"
        },
        {
          "output_type": "display_data",
          "data": {
            "text/plain": [
              "\n",
              "\tWilcoxon rank sum test with continuity correction\n",
              "\n",
              "data:  data$FB.TXFB3_ugm3 and 0\n",
              "W = 23, p-value = 0.4474\n",
              "alternative hypothesis: true location shift is not equal to 0\n"
            ]
          },
          "metadata": {
            "tags": []
          }
        }
      ]
    },
    {
      "cell_type": "markdown",
      "metadata": {
        "id": "-zA7-UmOVg5_"
      },
      "source": [
        "##Adjust by Blanks"
      ]
    },
    {
      "cell_type": "code",
      "metadata": {
        "id": "Clm0ikP9YDPi"
      },
      "source": [
        "data_blank_adj<- data %>% mutate(across(contains(c(\"TX\", \"FB\")),~.-blank.average))"
      ],
      "execution_count": null,
      "outputs": []
    },
    {
      "cell_type": "markdown",
      "metadata": {
        "id": "LednXHmOiPS3"
      },
      "source": [
        ""
      ]
    },
    {
      "cell_type": "markdown",
      "metadata": {
        "id": "82aB6fDj7hZy"
      },
      "source": [
        "##Combine Sheets"
      ]
    },
    {
      "cell_type": "code",
      "metadata": {
        "id": "5RQ1yBOE7hBh",
        "colab": {
          "base_uri": "https://localhost:8080/",
          "height": 203
        },
        "outputId": "3337b684-6fca-4fda-ca68-13d31e7c8810"
      },
      "source": [
        "data2 <- merge(data_blank_adj, info, by=\"Name\")"
      ],
      "execution_count": null,
      "outputs": [
        {
          "output_type": "error",
          "ename": "ERROR",
          "evalue": "ignored",
          "traceback": [
            "Error in fix.by(by.y, y): 'by' must specify a uniquely valid column\nTraceback:\n",
            "1. merge(data_blank_adj, info, by = \"Name\")",
            "2. merge.data.frame(data_blank_adj, info, by = \"Name\")",
            "3. fix.by(by.y, y)",
            "4. stop(ngettext(sum(bad), \"'by' must specify a uniquely valid column\", \n .     \"'by' must specify uniquely valid columns\"), domain = NA)"
          ]
        }
      ]
    },
    {
      "cell_type": "markdown",
      "metadata": {
        "id": "UB6RLYc74QWr"
      },
      "source": [
        "##Create Conversion Factor"
      ]
    },
    {
      "cell_type": "markdown",
      "metadata": {
        "id": "0RaFDVbuG_hX"
      },
      "source": [
        "![image.png](data:image/png;base64,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)"
      ]
    },
    {
      "cell_type": "markdown",
      "metadata": {
        "id": "RGgQlpQaHKrK"
      },
      "source": [
        "![image.png](data:image/png;base64,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)"
      ]
    },
    {
      "cell_type": "code",
      "metadata": {
        "id": "35goLaEO4P-U",
        "colab": {
          "base_uri": "https://localhost:8080/",
          "height": 96
        },
        "outputId": "ec8e76c1-c481-4885-ec99-949ccc126cfd"
      },
      "source": [
        "#temperature\n",
        "data2$temp_k <- ((data2$temp_f-32) * 5/9) + 273.15\n",
        "#molecular volume\n",
        "data2$mol_vol <- 22.41* (data2$temp_k/273) * (1013/data2$pressure_hpa)\n",
        "#conversion factor for ug/3 to ppb\n",
        "data2$conv <- (data2$mol_mass)/(data2$mol_vol)"
      ],
      "execution_count": null,
      "outputs": [
        {
          "output_type": "error",
          "ename": "ERROR",
          "evalue": "ignored",
          "traceback": [
            "Error in eval(expr, envir, enclos): object 'data2' not found\nTraceback:\n"
          ]
        }
      ]
    },
    {
      "cell_type": "markdown",
      "metadata": {
        "id": "wStISB3iJrHS"
      },
      "source": [
        "##Save sheet\n",
        "\n"
      ]
    },
    {
      "cell_type": "code",
      "metadata": {
        "id": "GXCpteb_JqrB"
      },
      "source": [
        "write.csv(data2, \"data_blank_adj.csv\")"
      ],
      "execution_count": null,
      "outputs": []
    },
    {
      "cell_type": "markdown",
      "metadata": {
        "id": "V8JgrfZeH_nj"
      },
      "source": [
        "##Convert ug/m3 to ppb"
      ]
    },
    {
      "cell_type": "code",
      "metadata": {
        "id": "7Bq4M7LIIKkb"
      },
      "source": [
        "#data2$conv <- 1/data2$conv"
      ],
      "execution_count": null,
      "outputs": []
    },
    {
      "cell_type": "code",
      "metadata": {
        "id": "TZBNnnP2MIFt"
      },
      "source": [
        "#data_ppb <- data2 %>% mutate(across(starts_with(\"TX\"),~.*conv))"
      ],
      "execution_count": null,
      "outputs": []
    },
    {
      "cell_type": "code",
      "metadata": {
        "id": "y1_WDuGZFfgg"
      },
      "source": [
        "#did it work?"
      ],
      "execution_count": null,
      "outputs": []
    },
    {
      "cell_type": "markdown",
      "metadata": {
        "id": "dcJdXyEiiMYh"
      },
      "source": [
        "##Compare to Thresholds"
      ]
    },
    {
      "cell_type": "code",
      "metadata": {
        "id": "tOOz3desh9PI"
      },
      "source": [
        "colnames(data2)"
      ],
      "execution_count": null,
      "outputs": []
    },
    {
      "cell_type": "code",
      "metadata": {
        "id": "_FzLKUFuy61w"
      },
      "source": [
        "#divide values by regulatory thresholds\n",
        "data3 <- data2 %>% mutate(across(contains(c(\"TX\", \"FB\")),~./EPA_chronic_threshold_ugm3))"
      ],
      "execution_count": null,
      "outputs": []
    },
    {
      "cell_type": "code",
      "metadata": {
        "id": "IRBQA9SmdoZs"
      },
      "source": [
        "just_results <- data3 %>%\n",
        "select(contains(c(\"Name\", \"TX\")))"
      ],
      "execution_count": null,
      "outputs": []
    },
    {
      "cell_type": "code",
      "metadata": {
        "id": "Zm3vxYWsxrcg"
      },
      "source": [
        "#Authorizations\n",
        "  # bring your own app via client id (aka key) and secret\n",
        "\n",
        "  # confirm the changes"
      ],
      "execution_count": null,
      "outputs": []
    },
    {
      "cell_type": "code",
      "metadata": {
        "id": "JiwnAs2pZxrg"
      },
      "source": [
        "#save results sheet\n",
        "write.csv(just_results, \"just_results_EPA.csv\")"
      ],
      "execution_count": null,
      "outputs": []
    },
    {
      "cell_type": "code",
      "metadata": {
        "id": "lMjXUtiKEIyz"
      },
      "source": [
        "over_thresh <- just_results %>% replace_with_na_at(.vars = c(2:37),\n",
        "                     condition = ~.x < 0.5)"
      ],
      "execution_count": null,
      "outputs": []
    },
    {
      "cell_type": "code",
      "metadata": {
        "id": "UEL8zYVqe3gG"
      },
      "source": [
        "over_thresh"
      ],
      "execution_count": null,
      "outputs": []
    },
    {
      "cell_type": "code",
      "metadata": {
        "id": "Xxxj3T4MZ2HA"
      },
      "source": [
        "#save over threshold sheet"
      ],
      "execution_count": null,
      "outputs": []
    },
    {
      "cell_type": "code",
      "metadata": {
        "id": "KyJF1UnKl30V"
      },
      "source": [
        "#adjust by blank (look up how to)\n",
        "str(just_results)"
      ],
      "execution_count": null,
      "outputs": []
    },
    {
      "cell_type": "code",
      "metadata": {
        "id": "qALdmTInG5LL"
      },
      "source": [
        "over_thresh %>% select_if(~sum(!is.na(.)) > 0)\n"
      ],
      "execution_count": null,
      "outputs": []
    },
    {
      "cell_type": "markdown",
      "metadata": {
        "id": "Uvrw5w_7puek"
      },
      "source": [
        "* Blanks\n",
        "* Duplicates\n",
        "* Results from 2018 by location\n",
        "* Results from 2020 by location\n",
        "* map for each location? 2018 and 2020\n",
        "* differences in setbacks for other rounds?\n",
        "* differences in pre-covid vs. post-covid\n",
        "* Omniscent data comparison \n",
        "* TCEQ data"
      ]
    }
  ]
}