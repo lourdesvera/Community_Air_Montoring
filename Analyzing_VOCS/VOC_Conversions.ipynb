{
  "nbformat": 4,
  "nbformat_minor": 0,
  "metadata": {
    "colab": {
      "name": "VOC_Conversions.ipynb",
      "provenance": [],
      "collapsed_sections": [],
      "include_colab_link": true
    },
    "kernelspec": {
      "name": "ir",
      "display_name": "R"
    }
  },
  "cells": [
    {
      "cell_type": "markdown",
      "metadata": {
        "id": "view-in-github",
        "colab_type": "text"
      },
      "source": [
        "<a href=\"https://colab.research.google.com/github/lourdesvera/Community_Air_Montoring/blob/master/VOC_Conversions.ipynb\" target=\"_parent\"><img src=\"https://colab.research.google.com/assets/colab-badge.svg\" alt=\"Open In Colab\"/></a>"
      ]
    },
    {
      "cell_type": "markdown",
      "metadata": {
        "id": "AtxyCnlCcAi1",
        "colab_type": "text"
      },
      "source": [
        "# **VOC Conversions and Threshold Comparisons**"
      ]
    },
    {
      "cell_type": "markdown",
      "metadata": {
        "id": "1M8Wrd50Zyfr",
        "colab_type": "text"
      },
      "source": [
        "## Installing libraries"
      ]
    },
    {
      "cell_type": "code",
      "metadata": {
        "id": "MDTDkIGjn6h9",
        "colab_type": "code",
        "colab": {
          "base_uri": "https://localhost:8080/",
          "height": 119
        },
        "outputId": "6c8f8bef-1cbd-4d4d-af2b-d9193a606612"
      },
      "source": [
        "install.packages('tidyverse')\n",
        "install.packages('googlesheets4')"
      ],
      "execution_count": null,
      "outputs": [
        {
          "output_type": "stream",
          "text": [
            "Installing package into ‘/usr/local/lib/R/site-library’\n",
            "(as ‘lib’ is unspecified)\n",
            "\n",
            "Installing package into ‘/usr/local/lib/R/site-library’\n",
            "(as ‘lib’ is unspecified)\n",
            "\n"
          ],
          "name": "stderr"
        }
      ]
    },
    {
      "cell_type": "markdown",
      "metadata": {
        "id": "RZ1-XnpzZ1uA",
        "colab_type": "text"
      },
      "source": [
        "## Importing libraries"
      ]
    },
    {
      "cell_type": "code",
      "metadata": {
        "id": "H6opECZygIYB",
        "colab_type": "code",
        "colab": {}
      },
      "source": [
        "library(tidyverse)\n",
        "library(googlesheets4)\n",
        "library(naniar)"
      ],
      "execution_count": null,
      "outputs": []
    },
    {
      "cell_type": "markdown",
      "metadata": {
        "id": "PgkOgwYnoGxQ",
        "colab_type": "text"
      },
      "source": [
        "##Import Data"
      ]
    },
    {
      "cell_type": "code",
      "metadata": {
        "id": "Zm3vxYWsxrcg",
        "colab_type": "code",
        "colab": {}
      },
      "source": [
        "#Authorizations\n",
        "gs4_deauth()"
      ],
      "execution_count": null,
      "outputs": []
    },
    {
      "cell_type": "code",
      "metadata": {
        "id": "CCbV_8GPmi43",
        "colab_type": "code",
        "colab": {
          "base_uri": "https://localhost:8080/",
          "height": 153
        },
        "outputId": "2ae1cc20-4801-4238-ad76-58080eccceeb"
      },
      "source": [
        "# Parameters\n",
        "  # Sheet ID for Gapminder example\n",
        "id <- \"1XGGJ15QhHxSQFGj6uQMIEAcseaRSmX50xLLWEbi9-44\"\n",
        "data <- read_sheet(ss = id)\n",
        "\n",
        "id2 <- \"1a-AqhxRlWil1Gy6i6PvtsZdyEjZ-Blhb_aX4sdoVjzw\"\n",
        "info <- read_sheet(ss= id2)"
      ],
      "execution_count": null,
      "outputs": [
        {
          "output_type": "stream",
          "text": [
            "Reading from \"VOC_analysis.csv\"\n",
            "\n",
            "Range \"VOC_analysis.csv\"\n",
            "\n",
            "Reading from \"compound_threshold_directory\"\n",
            "\n",
            "Range \"Thresholds\"\n",
            "\n"
          ],
          "name": "stderr"
        }
      ]
    },
    {
      "cell_type": "markdown",
      "metadata": {
        "id": "82aB6fDj7hZy",
        "colab_type": "text"
      },
      "source": [
        "##Combine Sheets"
      ]
    },
    {
      "cell_type": "code",
      "metadata": {
        "id": "5RQ1yBOE7hBh",
        "colab_type": "code",
        "colab": {
          "base_uri": "https://localhost:8080/",
          "height": 838
        },
        "outputId": "81e879d7-ac4f-46f3-93aa-4b38a11b4d71"
      },
      "source": [
        "data2 <- merge(data, info, by=\"Name\")\n",
        "data2"
      ],
      "execution_count": null,
      "outputs": [
        {
          "output_type": "display_data",
          "data": {
            "text/plain": [
              "   Name                   pressure_hpa temp_f TXBVOC8a TXBVOC5b TXBVOC1a\n",
              "1  1,2-Dichloroethane     1013.25      65.0   0.00      1.42    0.00    \n",
              "2  1,2,3-Trimethylbenzene 1013.25      68.0   0.00      0.25    0.00    \n",
              "3  1,2,4-Trimethylbenzene 1013.25      72.0   0.00      1.02    0.05    \n",
              "4  1,3,5-Trimethylbenzene 1013.25      72.0   0.00      0.33    0.00    \n",
              "5  1,4-Dichlorobenzene    1013.25      70.0   0.00      0.12    0.00    \n",
              "6  alpha-Pinene           1013.25      72.0   0.00      1.79    0.00    \n",
              "7  Benzene                1013.25      65.0   0.08      2.31    0.09    \n",
              "8  Carbontetrachloride    1013.25      68.2   0.00      1.05    0.00    \n",
              "9  Chlorobenzene          1013.25      71.9   0.00      0.12    0.00    \n",
              "10 Chloroform             1013.25      65.0   0.00      0.32    0.00    \n",
              "11 d-Limonene             1013.25      68.0   0.06     10.86    0.52    \n",
              "12 Ethyl Acetate          1013.25      68.0   0.00     57.68    0.00    \n",
              "13 Ethylbenzene           1013.25      71.9   0.01      3.04    0.01    \n",
              "14 Heptane                1013.25      68.2   0.00     14.50    0.00    \n",
              "15 Isopropylbenzene       1013.25      72.0   0.00      0.32    0.00    \n",
              "16 m,p-Xylene             1013.25      73.9   0.02      9.69    0.03    \n",
              "17 n-Decane               1013.25      70.0   0.00      3.39    0.00    \n",
              "18 n-Dodecane             1013.25      68.0   0.00      2.22    0.04    \n",
              "19 n-Nonane               1013.25      72.0   0.00      7.62    0.03    \n",
              "20 n-Octane               1013.25      68.2   0.00     12.33    0.08    \n",
              "21 n-Pentadecane          1013.25      68.0   0.13      0.40    0.07    \n",
              "22 n-Tetradecane          1013.25      68.0   0.12      0.68    0.09    \n",
              "23 n-Tridecane            1013.25      68.0   0.05      0.69    0.05    \n",
              "24 n-Undecane             1013.25      68.0   0.00      4.06    0.00    \n",
              "25 Naphthalene            1013.25      68.0   0.04      0.18    0.03    \n",
              "26 o-Xylene               1013.25      73.9   0.01      4.01    0.01    \n",
              "27 p-Isopropyltoluene     1013.25      68.0   0.01      0.63    0.02    \n",
              "28 Propylbenzene          1013.25      72.0   0.00      0.30    0.00    \n",
              "29 Styrene                1013.25      73.9   0.02      1.98    0.02    \n",
              "30 Tetrachloroethylene    1013.25      71.9   0.00      4.14    0.00    \n",
              "31 Tetrahydrofuran        1013.25      64.0   0.00      5.97    0.21    \n",
              "32 Toluene                1013.25      68.2   0.03     43.88    0.07    \n",
              "   TXBVOC2a TXBVOC5a TXA.1.A TXA.1.B ⋯ EPA_chronic_threshold_ugm3\n",
              "1   2.28     1.62    0.07    0.07    ⋯  200                      \n",
              "2   0.34     0.20    0.02    0.02    ⋯   NA                      \n",
              "3   1.44     0.85    0.09    0.09    ⋯ 5000                      \n",
              "4   0.44     0.28    0.04    0.04    ⋯   NA                      \n",
              "5   0.16     0.08    0.02    0.05    ⋯   NA                      \n",
              "6   3.37     0.86    0.00    0.01    ⋯   NA                      \n",
              "7   3.43     1.84    1.00    0.88    ⋯   NA                      \n",
              "8   1.32     1.05    0.48    0.46    ⋯   NA                      \n",
              "9   0.21     0.08    0.00    0.00    ⋯  800                      \n",
              "10  0.51     0.34    0.07    0.07    ⋯   NA                      \n",
              "11 13.63     4.82    0.09    0.04    ⋯   NA                      \n",
              "12 62.98    18.36    0.00    0.31    ⋯    1                      \n",
              "13  5.32     1.89    0.14    0.12    ⋯   30                      \n",
              "14 10.99     5.62    1.63    1.62    ⋯    3                      \n",
              "15  0.50     0.17    0.02    0.02    ⋯    0                      \n",
              "16 13.92     4.73    0.63    0.59    ⋯    3                      \n",
              "17  4.75     2.50    0.27    0.26    ⋯   NA                      \n",
              "18  2.23     1.54    0.13    0.11    ⋯   NA                      \n",
              "19  2.12     1.09    0.30    0.29    ⋯   NA                      \n",
              "20  7.43     3.00    0.62    0.68    ⋯   NA                      \n",
              "21  0.60     0.33    0.28    0.14    ⋯   NA                      \n",
              "22  1.06     0.48    0.56    0.15    ⋯   NA                      \n",
              "23  0.66     0.56    0.13    0.10    ⋯   NA                      \n",
              "24  5.64     2.57    0.18    0.16    ⋯   NA                      \n",
              "25  0.25     0.14    0.02    0.02    ⋯   98                      \n",
              "26  5.43     1.96    0.18    0.17    ⋯   NA                      \n",
              "27  0.69     0.21    0.01    0.01    ⋯   NA                      \n",
              "28  0.47     0.22    0.02    0.02    ⋯   NA                      \n",
              "29  5.48     2.16    0.01    0.01    ⋯   NA                      \n",
              "30  6.32     4.64    0.07    0.07    ⋯   NA                      \n",
              "31 15.84     6.61    0.34    0.34    ⋯   NA                      \n",
              "32 72.79    17.38    0.79    0.77    ⋯   NA                      \n",
              "   EPA_toxicity_inhalation_rfc_ugm3 EPA_chronic_threshold_ppb ACGIH_threshold\n",
              "1  0.007                             592.97                   NA             \n",
              "2  0.006                                 NA                   NA             \n",
              "3  0.006                                 NA                   NA             \n",
              "4  0.006                                 NA                   NA             \n",
              "5  0.800                                 NA                   NA             \n",
              "6     NA                                 NA                   NA             \n",
              "7  0.030                               9.39                   NA             \n",
              "8  0.100                              15.89                   NA             \n",
              "9  0.050                             217.22                   NA             \n",
              "10 0.098                              20.07                   NA             \n",
              "11    NA                                 NA                   NA             \n",
              "12 0.070                                 NA                   NA             \n",
              "13 1.000                             230.31                   NA             \n",
              "14    NA                                 NA                   NA             \n",
              "15    NA                              81.37                   NA             \n",
              "16 0.400                              23.03                   NA             \n",
              "17    NA                                 NA                   NA             \n",
              "18    NA                                 NA                   NA             \n",
              "19 0.020                                 NA                   NA             \n",
              "20    NA                                 NA                   NA             \n",
              "21    NA                                 NA                   NA             \n",
              "22    NA                                 NA                   NA             \n",
              "23    NA                                 NA                   NA             \n",
              "24    NA                                 NA                   NA             \n",
              "25    NA                               0.57                   NA             \n",
              "26 0.010                                 NA                   NA             \n",
              "27    NA                                 NA                   NA             \n",
              "28 1.000                                 NA                   NA             \n",
              "29 1.000                             234.78                   NA             \n",
              "30 0.040                                 NA                   NA             \n",
              "31    NA                                 NA                   NA             \n",
              "32 5.000                            1326.93                   NA             \n",
              "   TCEQ_acute_threshold_ugm3 TCEQ_acute_threshold_ppb\n",
              "1   200                        592.97                \n",
              "2    NA                            NA                \n",
              "3  5000                       3000.00                \n",
              "4     0                       3000.00                \n",
              "5    NA                            NA                \n",
              "6    NA                            NA                \n",
              "7    NA                        180.00                \n",
              "8    NA                         20.00                \n",
              "9    NA                        100.00                \n",
              "10   NA                         20.00                \n",
              "11   NA                            NA                \n",
              "12   NA                       4000.00                \n",
              "13   NA                      20000.00                \n",
              "14   NA                            NA                \n",
              "15   NA                            NA                \n",
              "16   NA                       1700.00                \n",
              "17   NA                            NA                \n",
              "18   NA                            NA                \n",
              "19   NA                            NA                \n",
              "20   NA                            NA                \n",
              "21   NA                            NA                \n",
              "22   NA                            NA                \n",
              "23   NA                            NA                \n",
              "24   NA                            NA                \n",
              "25   NA                         95.00                \n",
              "26   NA                            NA                \n",
              "27   NA                            NA                \n",
              "28   NA                            NA                \n",
              "29   NA                       5200.00                \n",
              "30   NA                            NA                \n",
              "31   NA                            NA                \n",
              "32   NA                       4000.00                \n",
              "   TCEQ_chronic_threshold_ugm3 TCEQ_chronic_threshold_ppb NIOSH MA_threshold\n",
              "1  NA                              NA                     NA    NA          \n",
              "2  NA                              NA                     NA    NA          \n",
              "3  NA                            37.0                     NA    NA          \n",
              "4  NA                            37.0                     NA    NA          \n",
              "5  NA                              NA                     NA    NA          \n",
              "6  NA                              NA                     NA    NA          \n",
              "7  NA                             1.4                     NA    NA          \n",
              "8  NA                             2.0                     NA    NA          \n",
              "9  NA                            10.0                     NA    NA          \n",
              "10 NA                             2.0                     NA    NA          \n",
              "11 NA                              NA                     NA    NA          \n",
              "12 NA                           400.0                     NA    NA          \n",
              "13 NA                           440.0                     NA    NA          \n",
              "14 NA                              NA                     NA    NA          \n",
              "15 NA                              NA                     NA    NA          \n",
              "16 NA                           190.0                     NA    NA          \n",
              "17 NA                              NA                     NA    NA          \n",
              "18 NA                              NA                     NA    NA          \n",
              "19 NA                              NA                     NA    NA          \n",
              "20 NA                              NA                     NA    NA          \n",
              "21 NA                              NA                     NA    NA          \n",
              "22 NA                              NA                     NA    NA          \n",
              "23 NA                              NA                     NA    NA          \n",
              "24 NA                              NA                     NA    NA          \n",
              "25 NA                             9.5                     NA    NA          \n",
              "26 NA                              NA                     NA    NA          \n",
              "27 NA                              NA                     NA    NA          \n",
              "28 NA                              NA                     NA    NA          \n",
              "29 NA                           110.0                     NA    NA          \n",
              "30 NA                              NA                     NA    NA          \n",
              "31 NA                              NA                     NA    NA          \n",
              "32 NA                          1100.0                     NA    NA          "
            ],
            "text/latex": "A data.frame: 32 × 53\n\\begin{tabular}{lllllllllllllllllllll}\n Name & pressure\\_hpa & temp\\_f & TXBVOC8a & TXBVOC5b & TXBVOC1a & TXBVOC2a & TXBVOC5a & TXA.1.A & TXA.1.B & ⋯ & EPA\\_chronic\\_threshold\\_ugm3 & EPA\\_toxicity\\_inhalation\\_rfc\\_ugm3 & EPA\\_chronic\\_threshold\\_ppb & ACGIH\\_threshold & TCEQ\\_acute\\_threshold\\_ugm3 & TCEQ\\_acute\\_threshold\\_ppb & TCEQ\\_chronic\\_threshold\\_ugm3 & TCEQ\\_chronic\\_threshold\\_ppb & NIOSH & MA\\_threshold\\\\\n <chr> & <dbl> & <dbl> & <dbl> & <dbl> & <dbl> & <dbl> & <dbl> & <dbl> & <dbl> & ⋯ & <dbl> & <dbl> & <dbl> & <lgl> & <dbl> & <dbl> & <lgl> & <dbl> & <lgl> & <lgl>\\\\\n\\hline\n\t 1,2-Dichloroethane     & 1013.25 & 65.0 & 0.00 &  1.42 & 0.00 &  2.28 &  1.62 & 0.07 & 0.07 & ⋯ &  200 & 0.007 &  592.97 & NA &  200 &   592.97 & NA &     NA & NA & NA\\\\\n\t 1,2,3-Trimethylbenzene & 1013.25 & 68.0 & 0.00 &  0.25 & 0.00 &  0.34 &  0.20 & 0.02 & 0.02 & ⋯ &   NA & 0.006 &      NA & NA &   NA &       NA & NA &     NA & NA & NA\\\\\n\t 1,2,4-Trimethylbenzene & 1013.25 & 72.0 & 0.00 &  1.02 & 0.05 &  1.44 &  0.85 & 0.09 & 0.09 & ⋯ & 5000 & 0.006 &      NA & NA & 5000 &  3000.00 & NA &   37.0 & NA & NA\\\\\n\t 1,3,5-Trimethylbenzene & 1013.25 & 72.0 & 0.00 &  0.33 & 0.00 &  0.44 &  0.28 & 0.04 & 0.04 & ⋯ &   NA & 0.006 &      NA & NA &    0 &  3000.00 & NA &   37.0 & NA & NA\\\\\n\t 1,4-Dichlorobenzene    & 1013.25 & 70.0 & 0.00 &  0.12 & 0.00 &  0.16 &  0.08 & 0.02 & 0.05 & ⋯ &   NA & 0.800 &      NA & NA &   NA &       NA & NA &     NA & NA & NA\\\\\n\t alpha-Pinene           & 1013.25 & 72.0 & 0.00 &  1.79 & 0.00 &  3.37 &  0.86 & 0.00 & 0.01 & ⋯ &   NA &    NA &      NA & NA &   NA &       NA & NA &     NA & NA & NA\\\\\n\t Benzene                & 1013.25 & 65.0 & 0.08 &  2.31 & 0.09 &  3.43 &  1.84 & 1.00 & 0.88 & ⋯ &   NA & 0.030 &    9.39 & NA &   NA &   180.00 & NA &    1.4 & NA & NA\\\\\n\t Carbontetrachloride    & 1013.25 & 68.2 & 0.00 &  1.05 & 0.00 &  1.32 &  1.05 & 0.48 & 0.46 & ⋯ &   NA & 0.100 &   15.89 & NA &   NA &    20.00 & NA &    2.0 & NA & NA\\\\\n\t Chlorobenzene          & 1013.25 & 71.9 & 0.00 &  0.12 & 0.00 &  0.21 &  0.08 & 0.00 & 0.00 & ⋯ &  800 & 0.050 &  217.22 & NA &   NA &   100.00 & NA &   10.0 & NA & NA\\\\\n\t Chloroform             & 1013.25 & 65.0 & 0.00 &  0.32 & 0.00 &  0.51 &  0.34 & 0.07 & 0.07 & ⋯ &   NA & 0.098 &   20.07 & NA &   NA &    20.00 & NA &    2.0 & NA & NA\\\\\n\t d-Limonene             & 1013.25 & 68.0 & 0.06 & 10.86 & 0.52 & 13.63 &  4.82 & 0.09 & 0.04 & ⋯ &   NA &    NA &      NA & NA &   NA &       NA & NA &     NA & NA & NA\\\\\n\t Ethyl Acetate          & 1013.25 & 68.0 & 0.00 & 57.68 & 0.00 & 62.98 & 18.36 & 0.00 & 0.31 & ⋯ &    1 & 0.070 &      NA & NA &   NA &  4000.00 & NA &  400.0 & NA & NA\\\\\n\t Ethylbenzene           & 1013.25 & 71.9 & 0.01 &  3.04 & 0.01 &  5.32 &  1.89 & 0.14 & 0.12 & ⋯ &   30 & 1.000 &  230.31 & NA &   NA & 20000.00 & NA &  440.0 & NA & NA\\\\\n\t Heptane                & 1013.25 & 68.2 & 0.00 & 14.50 & 0.00 & 10.99 &  5.62 & 1.63 & 1.62 & ⋯ &    3 &    NA &      NA & NA &   NA &       NA & NA &     NA & NA & NA\\\\\n\t Isopropylbenzene       & 1013.25 & 72.0 & 0.00 &  0.32 & 0.00 &  0.50 &  0.17 & 0.02 & 0.02 & ⋯ &    0 &    NA &   81.37 & NA &   NA &       NA & NA &     NA & NA & NA\\\\\n\t m,p-Xylene             & 1013.25 & 73.9 & 0.02 &  9.69 & 0.03 & 13.92 &  4.73 & 0.63 & 0.59 & ⋯ &    3 & 0.400 &   23.03 & NA &   NA &  1700.00 & NA &  190.0 & NA & NA\\\\\n\t n-Decane               & 1013.25 & 70.0 & 0.00 &  3.39 & 0.00 &  4.75 &  2.50 & 0.27 & 0.26 & ⋯ &   NA &    NA &      NA & NA &   NA &       NA & NA &     NA & NA & NA\\\\\n\t n-Dodecane             & 1013.25 & 68.0 & 0.00 &  2.22 & 0.04 &  2.23 &  1.54 & 0.13 & 0.11 & ⋯ &   NA &    NA &      NA & NA &   NA &       NA & NA &     NA & NA & NA\\\\\n\t n-Nonane               & 1013.25 & 72.0 & 0.00 &  7.62 & 0.03 &  2.12 &  1.09 & 0.30 & 0.29 & ⋯ &   NA & 0.020 &      NA & NA &   NA &       NA & NA &     NA & NA & NA\\\\\n\t n-Octane               & 1013.25 & 68.2 & 0.00 & 12.33 & 0.08 &  7.43 &  3.00 & 0.62 & 0.68 & ⋯ &   NA &    NA &      NA & NA &   NA &       NA & NA &     NA & NA & NA\\\\\n\t n-Pentadecane          & 1013.25 & 68.0 & 0.13 &  0.40 & 0.07 &  0.60 &  0.33 & 0.28 & 0.14 & ⋯ &   NA &    NA &      NA & NA &   NA &       NA & NA &     NA & NA & NA\\\\\n\t n-Tetradecane          & 1013.25 & 68.0 & 0.12 &  0.68 & 0.09 &  1.06 &  0.48 & 0.56 & 0.15 & ⋯ &   NA &    NA &      NA & NA &   NA &       NA & NA &     NA & NA & NA\\\\\n\t n-Tridecane            & 1013.25 & 68.0 & 0.05 &  0.69 & 0.05 &  0.66 &  0.56 & 0.13 & 0.10 & ⋯ &   NA &    NA &      NA & NA &   NA &       NA & NA &     NA & NA & NA\\\\\n\t n-Undecane             & 1013.25 & 68.0 & 0.00 &  4.06 & 0.00 &  5.64 &  2.57 & 0.18 & 0.16 & ⋯ &   NA &    NA &      NA & NA &   NA &       NA & NA &     NA & NA & NA\\\\\n\t Naphthalene            & 1013.25 & 68.0 & 0.04 &  0.18 & 0.03 &  0.25 &  0.14 & 0.02 & 0.02 & ⋯ &   98 &    NA &    0.57 & NA &   NA &    95.00 & NA &    9.5 & NA & NA\\\\\n\t o-Xylene               & 1013.25 & 73.9 & 0.01 &  4.01 & 0.01 &  5.43 &  1.96 & 0.18 & 0.17 & ⋯ &   NA & 0.010 &      NA & NA &   NA &       NA & NA &     NA & NA & NA\\\\\n\t p-Isopropyltoluene     & 1013.25 & 68.0 & 0.01 &  0.63 & 0.02 &  0.69 &  0.21 & 0.01 & 0.01 & ⋯ &   NA &    NA &      NA & NA &   NA &       NA & NA &     NA & NA & NA\\\\\n\t Propylbenzene          & 1013.25 & 72.0 & 0.00 &  0.30 & 0.00 &  0.47 &  0.22 & 0.02 & 0.02 & ⋯ &   NA & 1.000 &      NA & NA &   NA &       NA & NA &     NA & NA & NA\\\\\n\t Styrene                & 1013.25 & 73.9 & 0.02 &  1.98 & 0.02 &  5.48 &  2.16 & 0.01 & 0.01 & ⋯ &   NA & 1.000 &  234.78 & NA &   NA &  5200.00 & NA &  110.0 & NA & NA\\\\\n\t Tetrachloroethylene    & 1013.25 & 71.9 & 0.00 &  4.14 & 0.00 &  6.32 &  4.64 & 0.07 & 0.07 & ⋯ &   NA & 0.040 &      NA & NA &   NA &       NA & NA &     NA & NA & NA\\\\\n\t Tetrahydrofuran        & 1013.25 & 64.0 & 0.00 &  5.97 & 0.21 & 15.84 &  6.61 & 0.34 & 0.34 & ⋯ &   NA &    NA &      NA & NA &   NA &       NA & NA &     NA & NA & NA\\\\\n\t Toluene                & 1013.25 & 68.2 & 0.03 & 43.88 & 0.07 & 72.79 & 17.38 & 0.79 & 0.77 & ⋯ &   NA & 5.000 & 1326.93 & NA &   NA &  4000.00 & NA & 1100.0 & NA & NA\\\\\n\\end{tabular}\n",
            "text/markdown": "\nA data.frame: 32 × 53\n\n| Name &lt;chr&gt; | pressure_hpa &lt;dbl&gt; | temp_f &lt;dbl&gt; | TXBVOC8a &lt;dbl&gt; | TXBVOC5b &lt;dbl&gt; | TXBVOC1a &lt;dbl&gt; | TXBVOC2a &lt;dbl&gt; | TXBVOC5a &lt;dbl&gt; | TXA.1.A &lt;dbl&gt; | TXA.1.B &lt;dbl&gt; | ⋯ ⋯ | EPA_chronic_threshold_ugm3 &lt;dbl&gt; | EPA_toxicity_inhalation_rfc_ugm3 &lt;dbl&gt; | EPA_chronic_threshold_ppb &lt;dbl&gt; | ACGIH_threshold &lt;lgl&gt; | TCEQ_acute_threshold_ugm3 &lt;dbl&gt; | TCEQ_acute_threshold_ppb &lt;dbl&gt; | TCEQ_chronic_threshold_ugm3 &lt;lgl&gt; | TCEQ_chronic_threshold_ppb &lt;dbl&gt; | NIOSH &lt;lgl&gt; | MA_threshold &lt;lgl&gt; |\n|---|---|---|---|---|---|---|---|---|---|---|---|---|---|---|---|---|---|---|---|---|\n| 1,2-Dichloroethane     | 1013.25 | 65.0 | 0.00 |  1.42 | 0.00 |  2.28 |  1.62 | 0.07 | 0.07 | ⋯ |  200 | 0.007 |  592.97 | NA |  200 |   592.97 | NA |     NA | NA | NA |\n| 1,2,3-Trimethylbenzene | 1013.25 | 68.0 | 0.00 |  0.25 | 0.00 |  0.34 |  0.20 | 0.02 | 0.02 | ⋯ |   NA | 0.006 |      NA | NA |   NA |       NA | NA |     NA | NA | NA |\n| 1,2,4-Trimethylbenzene | 1013.25 | 72.0 | 0.00 |  1.02 | 0.05 |  1.44 |  0.85 | 0.09 | 0.09 | ⋯ | 5000 | 0.006 |      NA | NA | 5000 |  3000.00 | NA |   37.0 | NA | NA |\n| 1,3,5-Trimethylbenzene | 1013.25 | 72.0 | 0.00 |  0.33 | 0.00 |  0.44 |  0.28 | 0.04 | 0.04 | ⋯ |   NA | 0.006 |      NA | NA |    0 |  3000.00 | NA |   37.0 | NA | NA |\n| 1,4-Dichlorobenzene    | 1013.25 | 70.0 | 0.00 |  0.12 | 0.00 |  0.16 |  0.08 | 0.02 | 0.05 | ⋯ |   NA | 0.800 |      NA | NA |   NA |       NA | NA |     NA | NA | NA |\n| alpha-Pinene           | 1013.25 | 72.0 | 0.00 |  1.79 | 0.00 |  3.37 |  0.86 | 0.00 | 0.01 | ⋯ |   NA |    NA |      NA | NA |   NA |       NA | NA |     NA | NA | NA |\n| Benzene                | 1013.25 | 65.0 | 0.08 |  2.31 | 0.09 |  3.43 |  1.84 | 1.00 | 0.88 | ⋯ |   NA | 0.030 |    9.39 | NA |   NA |   180.00 | NA |    1.4 | NA | NA |\n| Carbontetrachloride    | 1013.25 | 68.2 | 0.00 |  1.05 | 0.00 |  1.32 |  1.05 | 0.48 | 0.46 | ⋯ |   NA | 0.100 |   15.89 | NA |   NA |    20.00 | NA |    2.0 | NA | NA |\n| Chlorobenzene          | 1013.25 | 71.9 | 0.00 |  0.12 | 0.00 |  0.21 |  0.08 | 0.00 | 0.00 | ⋯ |  800 | 0.050 |  217.22 | NA |   NA |   100.00 | NA |   10.0 | NA | NA |\n| Chloroform             | 1013.25 | 65.0 | 0.00 |  0.32 | 0.00 |  0.51 |  0.34 | 0.07 | 0.07 | ⋯ |   NA | 0.098 |   20.07 | NA |   NA |    20.00 | NA |    2.0 | NA | NA |\n| d-Limonene             | 1013.25 | 68.0 | 0.06 | 10.86 | 0.52 | 13.63 |  4.82 | 0.09 | 0.04 | ⋯ |   NA |    NA |      NA | NA |   NA |       NA | NA |     NA | NA | NA |\n| Ethyl Acetate          | 1013.25 | 68.0 | 0.00 | 57.68 | 0.00 | 62.98 | 18.36 | 0.00 | 0.31 | ⋯ |    1 | 0.070 |      NA | NA |   NA |  4000.00 | NA |  400.0 | NA | NA |\n| Ethylbenzene           | 1013.25 | 71.9 | 0.01 |  3.04 | 0.01 |  5.32 |  1.89 | 0.14 | 0.12 | ⋯ |   30 | 1.000 |  230.31 | NA |   NA | 20000.00 | NA |  440.0 | NA | NA |\n| Heptane                | 1013.25 | 68.2 | 0.00 | 14.50 | 0.00 | 10.99 |  5.62 | 1.63 | 1.62 | ⋯ |    3 |    NA |      NA | NA |   NA |       NA | NA |     NA | NA | NA |\n| Isopropylbenzene       | 1013.25 | 72.0 | 0.00 |  0.32 | 0.00 |  0.50 |  0.17 | 0.02 | 0.02 | ⋯ |    0 |    NA |   81.37 | NA |   NA |       NA | NA |     NA | NA | NA |\n| m,p-Xylene             | 1013.25 | 73.9 | 0.02 |  9.69 | 0.03 | 13.92 |  4.73 | 0.63 | 0.59 | ⋯ |    3 | 0.400 |   23.03 | NA |   NA |  1700.00 | NA |  190.0 | NA | NA |\n| n-Decane               | 1013.25 | 70.0 | 0.00 |  3.39 | 0.00 |  4.75 |  2.50 | 0.27 | 0.26 | ⋯ |   NA |    NA |      NA | NA |   NA |       NA | NA |     NA | NA | NA |\n| n-Dodecane             | 1013.25 | 68.0 | 0.00 |  2.22 | 0.04 |  2.23 |  1.54 | 0.13 | 0.11 | ⋯ |   NA |    NA |      NA | NA |   NA |       NA | NA |     NA | NA | NA |\n| n-Nonane               | 1013.25 | 72.0 | 0.00 |  7.62 | 0.03 |  2.12 |  1.09 | 0.30 | 0.29 | ⋯ |   NA | 0.020 |      NA | NA |   NA |       NA | NA |     NA | NA | NA |\n| n-Octane               | 1013.25 | 68.2 | 0.00 | 12.33 | 0.08 |  7.43 |  3.00 | 0.62 | 0.68 | ⋯ |   NA |    NA |      NA | NA |   NA |       NA | NA |     NA | NA | NA |\n| n-Pentadecane          | 1013.25 | 68.0 | 0.13 |  0.40 | 0.07 |  0.60 |  0.33 | 0.28 | 0.14 | ⋯ |   NA |    NA |      NA | NA |   NA |       NA | NA |     NA | NA | NA |\n| n-Tetradecane          | 1013.25 | 68.0 | 0.12 |  0.68 | 0.09 |  1.06 |  0.48 | 0.56 | 0.15 | ⋯ |   NA |    NA |      NA | NA |   NA |       NA | NA |     NA | NA | NA |\n| n-Tridecane            | 1013.25 | 68.0 | 0.05 |  0.69 | 0.05 |  0.66 |  0.56 | 0.13 | 0.10 | ⋯ |   NA |    NA |      NA | NA |   NA |       NA | NA |     NA | NA | NA |\n| n-Undecane             | 1013.25 | 68.0 | 0.00 |  4.06 | 0.00 |  5.64 |  2.57 | 0.18 | 0.16 | ⋯ |   NA |    NA |      NA | NA |   NA |       NA | NA |     NA | NA | NA |\n| Naphthalene            | 1013.25 | 68.0 | 0.04 |  0.18 | 0.03 |  0.25 |  0.14 | 0.02 | 0.02 | ⋯ |   98 |    NA |    0.57 | NA |   NA |    95.00 | NA |    9.5 | NA | NA |\n| o-Xylene               | 1013.25 | 73.9 | 0.01 |  4.01 | 0.01 |  5.43 |  1.96 | 0.18 | 0.17 | ⋯ |   NA | 0.010 |      NA | NA |   NA |       NA | NA |     NA | NA | NA |\n| p-Isopropyltoluene     | 1013.25 | 68.0 | 0.01 |  0.63 | 0.02 |  0.69 |  0.21 | 0.01 | 0.01 | ⋯ |   NA |    NA |      NA | NA |   NA |       NA | NA |     NA | NA | NA |\n| Propylbenzene          | 1013.25 | 72.0 | 0.00 |  0.30 | 0.00 |  0.47 |  0.22 | 0.02 | 0.02 | ⋯ |   NA | 1.000 |      NA | NA |   NA |       NA | NA |     NA | NA | NA |\n| Styrene                | 1013.25 | 73.9 | 0.02 |  1.98 | 0.02 |  5.48 |  2.16 | 0.01 | 0.01 | ⋯ |   NA | 1.000 |  234.78 | NA |   NA |  5200.00 | NA |  110.0 | NA | NA |\n| Tetrachloroethylene    | 1013.25 | 71.9 | 0.00 |  4.14 | 0.00 |  6.32 |  4.64 | 0.07 | 0.07 | ⋯ |   NA | 0.040 |      NA | NA |   NA |       NA | NA |     NA | NA | NA |\n| Tetrahydrofuran        | 1013.25 | 64.0 | 0.00 |  5.97 | 0.21 | 15.84 |  6.61 | 0.34 | 0.34 | ⋯ |   NA |    NA |      NA | NA |   NA |       NA | NA |     NA | NA | NA |\n| Toluene                | 1013.25 | 68.2 | 0.03 | 43.88 | 0.07 | 72.79 | 17.38 | 0.79 | 0.77 | ⋯ |   NA | 5.000 | 1326.93 | NA |   NA |  4000.00 | NA | 1100.0 | NA | NA |\n\n",
            "text/html": [
              "<table>\n",
              "<caption>A data.frame: 32 × 53</caption>\n",
              "<thead>\n",
              "\t<tr><th scope=col>Name</th><th scope=col>pressure_hpa</th><th scope=col>temp_f</th><th scope=col>TXBVOC8a</th><th scope=col>TXBVOC5b</th><th scope=col>TXBVOC1a</th><th scope=col>TXBVOC2a</th><th scope=col>TXBVOC5a</th><th scope=col>TXA.1.A</th><th scope=col>TXA.1.B</th><th scope=col>⋯</th><th scope=col>EPA_chronic_threshold_ugm3</th><th scope=col>EPA_toxicity_inhalation_rfc_ugm3</th><th scope=col>EPA_chronic_threshold_ppb</th><th scope=col>ACGIH_threshold</th><th scope=col>TCEQ_acute_threshold_ugm3</th><th scope=col>TCEQ_acute_threshold_ppb</th><th scope=col>TCEQ_chronic_threshold_ugm3</th><th scope=col>TCEQ_chronic_threshold_ppb</th><th scope=col>NIOSH</th><th scope=col>MA_threshold</th></tr>\n",
              "\t<tr><th scope=col>&lt;chr&gt;</th><th scope=col>&lt;dbl&gt;</th><th scope=col>&lt;dbl&gt;</th><th scope=col>&lt;dbl&gt;</th><th scope=col>&lt;dbl&gt;</th><th scope=col>&lt;dbl&gt;</th><th scope=col>&lt;dbl&gt;</th><th scope=col>&lt;dbl&gt;</th><th scope=col>&lt;dbl&gt;</th><th scope=col>&lt;dbl&gt;</th><th scope=col>⋯</th><th scope=col>&lt;dbl&gt;</th><th scope=col>&lt;dbl&gt;</th><th scope=col>&lt;dbl&gt;</th><th scope=col>&lt;lgl&gt;</th><th scope=col>&lt;dbl&gt;</th><th scope=col>&lt;dbl&gt;</th><th scope=col>&lt;lgl&gt;</th><th scope=col>&lt;dbl&gt;</th><th scope=col>&lt;lgl&gt;</th><th scope=col>&lt;lgl&gt;</th></tr>\n",
              "</thead>\n",
              "<tbody>\n",
              "\t<tr><td>1,2-Dichloroethane    </td><td>1013.25</td><td>65.0</td><td>0.00</td><td> 1.42</td><td>0.00</td><td> 2.28</td><td> 1.62</td><td>0.07</td><td>0.07</td><td>⋯</td><td> 200</td><td>0.007</td><td> 592.97</td><td>NA</td><td> 200</td><td>  592.97</td><td>NA</td><td>    NA</td><td>NA</td><td>NA</td></tr>\n",
              "\t<tr><td>1,2,3-Trimethylbenzene</td><td>1013.25</td><td>68.0</td><td>0.00</td><td> 0.25</td><td>0.00</td><td> 0.34</td><td> 0.20</td><td>0.02</td><td>0.02</td><td>⋯</td><td>  NA</td><td>0.006</td><td>     NA</td><td>NA</td><td>  NA</td><td>      NA</td><td>NA</td><td>    NA</td><td>NA</td><td>NA</td></tr>\n",
              "\t<tr><td>1,2,4-Trimethylbenzene</td><td>1013.25</td><td>72.0</td><td>0.00</td><td> 1.02</td><td>0.05</td><td> 1.44</td><td> 0.85</td><td>0.09</td><td>0.09</td><td>⋯</td><td>5000</td><td>0.006</td><td>     NA</td><td>NA</td><td>5000</td><td> 3000.00</td><td>NA</td><td>  37.0</td><td>NA</td><td>NA</td></tr>\n",
              "\t<tr><td>1,3,5-Trimethylbenzene</td><td>1013.25</td><td>72.0</td><td>0.00</td><td> 0.33</td><td>0.00</td><td> 0.44</td><td> 0.28</td><td>0.04</td><td>0.04</td><td>⋯</td><td>  NA</td><td>0.006</td><td>     NA</td><td>NA</td><td>   0</td><td> 3000.00</td><td>NA</td><td>  37.0</td><td>NA</td><td>NA</td></tr>\n",
              "\t<tr><td>1,4-Dichlorobenzene   </td><td>1013.25</td><td>70.0</td><td>0.00</td><td> 0.12</td><td>0.00</td><td> 0.16</td><td> 0.08</td><td>0.02</td><td>0.05</td><td>⋯</td><td>  NA</td><td>0.800</td><td>     NA</td><td>NA</td><td>  NA</td><td>      NA</td><td>NA</td><td>    NA</td><td>NA</td><td>NA</td></tr>\n",
              "\t<tr><td>alpha-Pinene          </td><td>1013.25</td><td>72.0</td><td>0.00</td><td> 1.79</td><td>0.00</td><td> 3.37</td><td> 0.86</td><td>0.00</td><td>0.01</td><td>⋯</td><td>  NA</td><td>   NA</td><td>     NA</td><td>NA</td><td>  NA</td><td>      NA</td><td>NA</td><td>    NA</td><td>NA</td><td>NA</td></tr>\n",
              "\t<tr><td>Benzene               </td><td>1013.25</td><td>65.0</td><td>0.08</td><td> 2.31</td><td>0.09</td><td> 3.43</td><td> 1.84</td><td>1.00</td><td>0.88</td><td>⋯</td><td>  NA</td><td>0.030</td><td>   9.39</td><td>NA</td><td>  NA</td><td>  180.00</td><td>NA</td><td>   1.4</td><td>NA</td><td>NA</td></tr>\n",
              "\t<tr><td>Carbontetrachloride   </td><td>1013.25</td><td>68.2</td><td>0.00</td><td> 1.05</td><td>0.00</td><td> 1.32</td><td> 1.05</td><td>0.48</td><td>0.46</td><td>⋯</td><td>  NA</td><td>0.100</td><td>  15.89</td><td>NA</td><td>  NA</td><td>   20.00</td><td>NA</td><td>   2.0</td><td>NA</td><td>NA</td></tr>\n",
              "\t<tr><td>Chlorobenzene         </td><td>1013.25</td><td>71.9</td><td>0.00</td><td> 0.12</td><td>0.00</td><td> 0.21</td><td> 0.08</td><td>0.00</td><td>0.00</td><td>⋯</td><td> 800</td><td>0.050</td><td> 217.22</td><td>NA</td><td>  NA</td><td>  100.00</td><td>NA</td><td>  10.0</td><td>NA</td><td>NA</td></tr>\n",
              "\t<tr><td>Chloroform            </td><td>1013.25</td><td>65.0</td><td>0.00</td><td> 0.32</td><td>0.00</td><td> 0.51</td><td> 0.34</td><td>0.07</td><td>0.07</td><td>⋯</td><td>  NA</td><td>0.098</td><td>  20.07</td><td>NA</td><td>  NA</td><td>   20.00</td><td>NA</td><td>   2.0</td><td>NA</td><td>NA</td></tr>\n",
              "\t<tr><td>d-Limonene            </td><td>1013.25</td><td>68.0</td><td>0.06</td><td>10.86</td><td>0.52</td><td>13.63</td><td> 4.82</td><td>0.09</td><td>0.04</td><td>⋯</td><td>  NA</td><td>   NA</td><td>     NA</td><td>NA</td><td>  NA</td><td>      NA</td><td>NA</td><td>    NA</td><td>NA</td><td>NA</td></tr>\n",
              "\t<tr><td>Ethyl Acetate         </td><td>1013.25</td><td>68.0</td><td>0.00</td><td>57.68</td><td>0.00</td><td>62.98</td><td>18.36</td><td>0.00</td><td>0.31</td><td>⋯</td><td>   1</td><td>0.070</td><td>     NA</td><td>NA</td><td>  NA</td><td> 4000.00</td><td>NA</td><td> 400.0</td><td>NA</td><td>NA</td></tr>\n",
              "\t<tr><td>Ethylbenzene          </td><td>1013.25</td><td>71.9</td><td>0.01</td><td> 3.04</td><td>0.01</td><td> 5.32</td><td> 1.89</td><td>0.14</td><td>0.12</td><td>⋯</td><td>  30</td><td>1.000</td><td> 230.31</td><td>NA</td><td>  NA</td><td>20000.00</td><td>NA</td><td> 440.0</td><td>NA</td><td>NA</td></tr>\n",
              "\t<tr><td>Heptane               </td><td>1013.25</td><td>68.2</td><td>0.00</td><td>14.50</td><td>0.00</td><td>10.99</td><td> 5.62</td><td>1.63</td><td>1.62</td><td>⋯</td><td>   3</td><td>   NA</td><td>     NA</td><td>NA</td><td>  NA</td><td>      NA</td><td>NA</td><td>    NA</td><td>NA</td><td>NA</td></tr>\n",
              "\t<tr><td>Isopropylbenzene      </td><td>1013.25</td><td>72.0</td><td>0.00</td><td> 0.32</td><td>0.00</td><td> 0.50</td><td> 0.17</td><td>0.02</td><td>0.02</td><td>⋯</td><td>   0</td><td>   NA</td><td>  81.37</td><td>NA</td><td>  NA</td><td>      NA</td><td>NA</td><td>    NA</td><td>NA</td><td>NA</td></tr>\n",
              "\t<tr><td>m,p-Xylene            </td><td>1013.25</td><td>73.9</td><td>0.02</td><td> 9.69</td><td>0.03</td><td>13.92</td><td> 4.73</td><td>0.63</td><td>0.59</td><td>⋯</td><td>   3</td><td>0.400</td><td>  23.03</td><td>NA</td><td>  NA</td><td> 1700.00</td><td>NA</td><td> 190.0</td><td>NA</td><td>NA</td></tr>\n",
              "\t<tr><td>n-Decane              </td><td>1013.25</td><td>70.0</td><td>0.00</td><td> 3.39</td><td>0.00</td><td> 4.75</td><td> 2.50</td><td>0.27</td><td>0.26</td><td>⋯</td><td>  NA</td><td>   NA</td><td>     NA</td><td>NA</td><td>  NA</td><td>      NA</td><td>NA</td><td>    NA</td><td>NA</td><td>NA</td></tr>\n",
              "\t<tr><td>n-Dodecane            </td><td>1013.25</td><td>68.0</td><td>0.00</td><td> 2.22</td><td>0.04</td><td> 2.23</td><td> 1.54</td><td>0.13</td><td>0.11</td><td>⋯</td><td>  NA</td><td>   NA</td><td>     NA</td><td>NA</td><td>  NA</td><td>      NA</td><td>NA</td><td>    NA</td><td>NA</td><td>NA</td></tr>\n",
              "\t<tr><td>n-Nonane              </td><td>1013.25</td><td>72.0</td><td>0.00</td><td> 7.62</td><td>0.03</td><td> 2.12</td><td> 1.09</td><td>0.30</td><td>0.29</td><td>⋯</td><td>  NA</td><td>0.020</td><td>     NA</td><td>NA</td><td>  NA</td><td>      NA</td><td>NA</td><td>    NA</td><td>NA</td><td>NA</td></tr>\n",
              "\t<tr><td>n-Octane              </td><td>1013.25</td><td>68.2</td><td>0.00</td><td>12.33</td><td>0.08</td><td> 7.43</td><td> 3.00</td><td>0.62</td><td>0.68</td><td>⋯</td><td>  NA</td><td>   NA</td><td>     NA</td><td>NA</td><td>  NA</td><td>      NA</td><td>NA</td><td>    NA</td><td>NA</td><td>NA</td></tr>\n",
              "\t<tr><td>n-Pentadecane         </td><td>1013.25</td><td>68.0</td><td>0.13</td><td> 0.40</td><td>0.07</td><td> 0.60</td><td> 0.33</td><td>0.28</td><td>0.14</td><td>⋯</td><td>  NA</td><td>   NA</td><td>     NA</td><td>NA</td><td>  NA</td><td>      NA</td><td>NA</td><td>    NA</td><td>NA</td><td>NA</td></tr>\n",
              "\t<tr><td>n-Tetradecane         </td><td>1013.25</td><td>68.0</td><td>0.12</td><td> 0.68</td><td>0.09</td><td> 1.06</td><td> 0.48</td><td>0.56</td><td>0.15</td><td>⋯</td><td>  NA</td><td>   NA</td><td>     NA</td><td>NA</td><td>  NA</td><td>      NA</td><td>NA</td><td>    NA</td><td>NA</td><td>NA</td></tr>\n",
              "\t<tr><td>n-Tridecane           </td><td>1013.25</td><td>68.0</td><td>0.05</td><td> 0.69</td><td>0.05</td><td> 0.66</td><td> 0.56</td><td>0.13</td><td>0.10</td><td>⋯</td><td>  NA</td><td>   NA</td><td>     NA</td><td>NA</td><td>  NA</td><td>      NA</td><td>NA</td><td>    NA</td><td>NA</td><td>NA</td></tr>\n",
              "\t<tr><td>n-Undecane            </td><td>1013.25</td><td>68.0</td><td>0.00</td><td> 4.06</td><td>0.00</td><td> 5.64</td><td> 2.57</td><td>0.18</td><td>0.16</td><td>⋯</td><td>  NA</td><td>   NA</td><td>     NA</td><td>NA</td><td>  NA</td><td>      NA</td><td>NA</td><td>    NA</td><td>NA</td><td>NA</td></tr>\n",
              "\t<tr><td>Naphthalene           </td><td>1013.25</td><td>68.0</td><td>0.04</td><td> 0.18</td><td>0.03</td><td> 0.25</td><td> 0.14</td><td>0.02</td><td>0.02</td><td>⋯</td><td>  98</td><td>   NA</td><td>   0.57</td><td>NA</td><td>  NA</td><td>   95.00</td><td>NA</td><td>   9.5</td><td>NA</td><td>NA</td></tr>\n",
              "\t<tr><td>o-Xylene              </td><td>1013.25</td><td>73.9</td><td>0.01</td><td> 4.01</td><td>0.01</td><td> 5.43</td><td> 1.96</td><td>0.18</td><td>0.17</td><td>⋯</td><td>  NA</td><td>0.010</td><td>     NA</td><td>NA</td><td>  NA</td><td>      NA</td><td>NA</td><td>    NA</td><td>NA</td><td>NA</td></tr>\n",
              "\t<tr><td>p-Isopropyltoluene    </td><td>1013.25</td><td>68.0</td><td>0.01</td><td> 0.63</td><td>0.02</td><td> 0.69</td><td> 0.21</td><td>0.01</td><td>0.01</td><td>⋯</td><td>  NA</td><td>   NA</td><td>     NA</td><td>NA</td><td>  NA</td><td>      NA</td><td>NA</td><td>    NA</td><td>NA</td><td>NA</td></tr>\n",
              "\t<tr><td>Propylbenzene         </td><td>1013.25</td><td>72.0</td><td>0.00</td><td> 0.30</td><td>0.00</td><td> 0.47</td><td> 0.22</td><td>0.02</td><td>0.02</td><td>⋯</td><td>  NA</td><td>1.000</td><td>     NA</td><td>NA</td><td>  NA</td><td>      NA</td><td>NA</td><td>    NA</td><td>NA</td><td>NA</td></tr>\n",
              "\t<tr><td>Styrene               </td><td>1013.25</td><td>73.9</td><td>0.02</td><td> 1.98</td><td>0.02</td><td> 5.48</td><td> 2.16</td><td>0.01</td><td>0.01</td><td>⋯</td><td>  NA</td><td>1.000</td><td> 234.78</td><td>NA</td><td>  NA</td><td> 5200.00</td><td>NA</td><td> 110.0</td><td>NA</td><td>NA</td></tr>\n",
              "\t<tr><td>Tetrachloroethylene   </td><td>1013.25</td><td>71.9</td><td>0.00</td><td> 4.14</td><td>0.00</td><td> 6.32</td><td> 4.64</td><td>0.07</td><td>0.07</td><td>⋯</td><td>  NA</td><td>0.040</td><td>     NA</td><td>NA</td><td>  NA</td><td>      NA</td><td>NA</td><td>    NA</td><td>NA</td><td>NA</td></tr>\n",
              "\t<tr><td>Tetrahydrofuran       </td><td>1013.25</td><td>64.0</td><td>0.00</td><td> 5.97</td><td>0.21</td><td>15.84</td><td> 6.61</td><td>0.34</td><td>0.34</td><td>⋯</td><td>  NA</td><td>   NA</td><td>     NA</td><td>NA</td><td>  NA</td><td>      NA</td><td>NA</td><td>    NA</td><td>NA</td><td>NA</td></tr>\n",
              "\t<tr><td>Toluene               </td><td>1013.25</td><td>68.2</td><td>0.03</td><td>43.88</td><td>0.07</td><td>72.79</td><td>17.38</td><td>0.79</td><td>0.77</td><td>⋯</td><td>  NA</td><td>5.000</td><td>1326.93</td><td>NA</td><td>  NA</td><td> 4000.00</td><td>NA</td><td>1100.0</td><td>NA</td><td>NA</td></tr>\n",
              "</tbody>\n",
              "</table>\n"
            ]
          },
          "metadata": {
            "tags": []
          }
        }
      ]
    },
    {
      "cell_type": "markdown",
      "metadata": {
        "id": "UB6RLYc74QWr",
        "colab_type": "text"
      },
      "source": [
        "##Create Conversion Factor"
      ]
    },
    {
      "cell_type": "markdown",
      "metadata": {
        "id": "0RaFDVbuG_hX",
        "colab_type": "text"
      },
      "source": [
        "![image.png](data:image/png;base64,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)"
      ]
    },
    {
      "cell_type": "markdown",
      "metadata": {
        "id": "RGgQlpQaHKrK",
        "colab_type": "text"
      },
      "source": [
        "![image.png](data:image/png;base64,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)"
      ]
    },
    {
      "cell_type": "code",
      "metadata": {
        "id": "35goLaEO4P-U",
        "colab_type": "code",
        "colab": {}
      },
      "source": [
        "#temperature\n",
        "data2$temp_k <- ((data2$temp_f-32) * 5/9) + 273.15\n",
        "#molecular volume\n",
        "data2$mol_vol <- 22.41* (data2$temp_k/273) * (1013/data2$pressure_hpa)\n",
        "#conversion factor for ug/3 to ppb\n",
        "data2$conv <- (data2$mol_mass)/(data2$mol_vol)"
      ],
      "execution_count": null,
      "outputs": []
    },
    {
      "cell_type": "markdown",
      "metadata": {
        "id": "V8JgrfZeH_nj",
        "colab_type": "text"
      },
      "source": [
        "##Convert ug/m3 to ppb"
      ]
    },
    {
      "cell_type": "code",
      "metadata": {
        "id": "7Bq4M7LIIKkb",
        "colab_type": "code",
        "colab": {}
      },
      "source": [
        "data2$conv <- 1/data2$conv"
      ],
      "execution_count": null,
      "outputs": []
    },
    {
      "cell_type": "code",
      "metadata": {
        "id": "TZBNnnP2MIFt",
        "colab_type": "code",
        "colab": {}
      },
      "source": [
        "data_ppb <- data2 %>% mutate(across(starts_with(\"TX\"),~.*conv))"
      ],
      "execution_count": null,
      "outputs": []
    },
    {
      "cell_type": "code",
      "metadata": {
        "id": "fUOnGvlrPPg3",
        "colab_type": "code",
        "colab": {
          "base_uri": "https://localhost:8080/",
          "height": 309
        },
        "outputId": "2ee2fccc-d600-4534-a078-7c308530df8a"
      },
      "source": [
        "head(data_ppb)"
      ],
      "execution_count": null,
      "outputs": [
        {
          "output_type": "display_data",
          "data": {
            "text/plain": [
              "  Name                   pressure_hpa temp_f TXBVOC8a TXBVOC5b   TXBVOC1a  \n",
              "1 1,2-Dichloroethane     1013.25      65     0        0.34325307 0.00000000\n",
              "2 1,2,3-Trimethylbenzene 1013.25      68     0        0.05004188 0.00000000\n",
              "3 1,2,4-Trimethylbenzene 1013.25      72     0        0.20571859 0.01008424\n",
              "4 1,3,5-Trimethylbenzene 1013.25      72     0        0.06655601 0.00000000\n",
              "5 1,4-Dichlorobenzene    1013.25      70     0        0.01918897 0.00000000\n",
              "6 alpha-Pinene           1013.25      72     0        0.31850919 0.00000000\n",
              "  TXBVOC2a   TXBVOC5a   TXA.1.A     TXA.1.B     ⋯ ACGIH_threshold\n",
              "1 0.55113873 0.39159857 0.016920926 0.016920926 ⋯ NA             \n",
              "2 0.06805696 0.04003350 0.004003350 0.004003350 ⋯ NA             \n",
              "3 0.29042624 0.17143215 0.018151640 0.018151640 ⋯ NA             \n",
              "4 0.08874135 0.05647177 0.008067396 0.008067396 ⋯ NA             \n",
              "5 0.02558530 0.01279265 0.003198162 0.007995405 ⋯ NA             \n",
              "6 0.59965138 0.15302676 0.000000000 0.001779381 ⋯ NA             \n",
              "  TCEQ_acute_threshold_ugm3 TCEQ_acute_threshold_ppb\n",
              "1  200                       592.97                 \n",
              "2   NA                           NA                 \n",
              "3 5000                      3000.00                 \n",
              "4    0                      3000.00                 \n",
              "5   NA                           NA                 \n",
              "6   NA                           NA                 \n",
              "  TCEQ_chronic_threshold_ugm3 TCEQ_chronic_threshold_ppb NIOSH MA_threshold\n",
              "1 NA                          NA                         NA    NA          \n",
              "2 NA                          NA                         NA    NA          \n",
              "3 NA                          37                         NA    NA          \n",
              "4 NA                          37                         NA    NA          \n",
              "5 NA                          NA                         NA    NA          \n",
              "6 NA                          NA                         NA    NA          \n",
              "  temp_k   mol_vol  conv     \n",
              "1 291.4833 23.92135 0.2417275\n",
              "2 293.1500 24.05813 0.2001675\n",
              "3 295.3722 24.24051 0.2016849\n",
              "4 295.3722 24.24051 0.2016849\n",
              "5 294.2611 24.14932 0.1599081\n",
              "6 295.3722 24.24051 0.1779381"
            ],
            "text/latex": "A data.frame: 6 × 56\n\\begin{tabular}{r|lllllllllllllllllllll}\n  & Name & pressure\\_hpa & temp\\_f & TXBVOC8a & TXBVOC5b & TXBVOC1a & TXBVOC2a & TXBVOC5a & TXA.1.A & TXA.1.B & ⋯ & ACGIH\\_threshold & TCEQ\\_acute\\_threshold\\_ugm3 & TCEQ\\_acute\\_threshold\\_ppb & TCEQ\\_chronic\\_threshold\\_ugm3 & TCEQ\\_chronic\\_threshold\\_ppb & NIOSH & MA\\_threshold & temp\\_k & mol\\_vol & conv\\\\\n  & <chr> & <dbl> & <dbl> & <dbl> & <dbl> & <dbl> & <dbl> & <dbl> & <dbl> & <dbl> & ⋯ & <lgl> & <dbl> & <dbl> & <lgl> & <dbl> & <lgl> & <lgl> & <dbl> & <dbl> & <dbl>\\\\\n\\hline\n\t1 & 1,2-Dichloroethane     & 1013.25 & 65 & 0 & 0.34325307 & 0.00000000 & 0.55113873 & 0.39159857 & 0.016920926 & 0.016920926 & ⋯ & NA &  200 &  592.97 & NA & NA & NA & NA & 291.4833 & 23.92135 & 0.2417275\\\\\n\t2 & 1,2,3-Trimethylbenzene & 1013.25 & 68 & 0 & 0.05004188 & 0.00000000 & 0.06805696 & 0.04003350 & 0.004003350 & 0.004003350 & ⋯ & NA &   NA &      NA & NA & NA & NA & NA & 293.1500 & 24.05813 & 0.2001675\\\\\n\t3 & 1,2,4-Trimethylbenzene & 1013.25 & 72 & 0 & 0.20571859 & 0.01008424 & 0.29042624 & 0.17143215 & 0.018151640 & 0.018151640 & ⋯ & NA & 5000 & 3000.00 & NA & 37 & NA & NA & 295.3722 & 24.24051 & 0.2016849\\\\\n\t4 & 1,3,5-Trimethylbenzene & 1013.25 & 72 & 0 & 0.06655601 & 0.00000000 & 0.08874135 & 0.05647177 & 0.008067396 & 0.008067396 & ⋯ & NA &    0 & 3000.00 & NA & 37 & NA & NA & 295.3722 & 24.24051 & 0.2016849\\\\\n\t5 & 1,4-Dichlorobenzene    & 1013.25 & 70 & 0 & 0.01918897 & 0.00000000 & 0.02558530 & 0.01279265 & 0.003198162 & 0.007995405 & ⋯ & NA &   NA &      NA & NA & NA & NA & NA & 294.2611 & 24.14932 & 0.1599081\\\\\n\t6 & alpha-Pinene           & 1013.25 & 72 & 0 & 0.31850919 & 0.00000000 & 0.59965138 & 0.15302676 & 0.000000000 & 0.001779381 & ⋯ & NA &   NA &      NA & NA & NA & NA & NA & 295.3722 & 24.24051 & 0.1779381\\\\\n\\end{tabular}\n",
            "text/markdown": "\nA data.frame: 6 × 56\n\n| <!--/--> | Name &lt;chr&gt; | pressure_hpa &lt;dbl&gt; | temp_f &lt;dbl&gt; | TXBVOC8a &lt;dbl&gt; | TXBVOC5b &lt;dbl&gt; | TXBVOC1a &lt;dbl&gt; | TXBVOC2a &lt;dbl&gt; | TXBVOC5a &lt;dbl&gt; | TXA.1.A &lt;dbl&gt; | TXA.1.B &lt;dbl&gt; | ⋯ ⋯ | ACGIH_threshold &lt;lgl&gt; | TCEQ_acute_threshold_ugm3 &lt;dbl&gt; | TCEQ_acute_threshold_ppb &lt;dbl&gt; | TCEQ_chronic_threshold_ugm3 &lt;lgl&gt; | TCEQ_chronic_threshold_ppb &lt;dbl&gt; | NIOSH &lt;lgl&gt; | MA_threshold &lt;lgl&gt; | temp_k &lt;dbl&gt; | mol_vol &lt;dbl&gt; | conv &lt;dbl&gt; |\n|---|---|---|---|---|---|---|---|---|---|---|---|---|---|---|---|---|---|---|---|---|---|\n| 1 | 1,2-Dichloroethane     | 1013.25 | 65 | 0 | 0.34325307 | 0.00000000 | 0.55113873 | 0.39159857 | 0.016920926 | 0.016920926 | ⋯ | NA |  200 |  592.97 | NA | NA | NA | NA | 291.4833 | 23.92135 | 0.2417275 |\n| 2 | 1,2,3-Trimethylbenzene | 1013.25 | 68 | 0 | 0.05004188 | 0.00000000 | 0.06805696 | 0.04003350 | 0.004003350 | 0.004003350 | ⋯ | NA |   NA |      NA | NA | NA | NA | NA | 293.1500 | 24.05813 | 0.2001675 |\n| 3 | 1,2,4-Trimethylbenzene | 1013.25 | 72 | 0 | 0.20571859 | 0.01008424 | 0.29042624 | 0.17143215 | 0.018151640 | 0.018151640 | ⋯ | NA | 5000 | 3000.00 | NA | 37 | NA | NA | 295.3722 | 24.24051 | 0.2016849 |\n| 4 | 1,3,5-Trimethylbenzene | 1013.25 | 72 | 0 | 0.06655601 | 0.00000000 | 0.08874135 | 0.05647177 | 0.008067396 | 0.008067396 | ⋯ | NA |    0 | 3000.00 | NA | 37 | NA | NA | 295.3722 | 24.24051 | 0.2016849 |\n| 5 | 1,4-Dichlorobenzene    | 1013.25 | 70 | 0 | 0.01918897 | 0.00000000 | 0.02558530 | 0.01279265 | 0.003198162 | 0.007995405 | ⋯ | NA |   NA |      NA | NA | NA | NA | NA | 294.2611 | 24.14932 | 0.1599081 |\n| 6 | alpha-Pinene           | 1013.25 | 72 | 0 | 0.31850919 | 0.00000000 | 0.59965138 | 0.15302676 | 0.000000000 | 0.001779381 | ⋯ | NA |   NA |      NA | NA | NA | NA | NA | 295.3722 | 24.24051 | 0.1779381 |\n\n",
            "text/html": [
              "<table>\n",
              "<caption>A data.frame: 6 × 56</caption>\n",
              "<thead>\n",
              "\t<tr><th></th><th scope=col>Name</th><th scope=col>pressure_hpa</th><th scope=col>temp_f</th><th scope=col>TXBVOC8a</th><th scope=col>TXBVOC5b</th><th scope=col>TXBVOC1a</th><th scope=col>TXBVOC2a</th><th scope=col>TXBVOC5a</th><th scope=col>TXA.1.A</th><th scope=col>TXA.1.B</th><th scope=col>⋯</th><th scope=col>ACGIH_threshold</th><th scope=col>TCEQ_acute_threshold_ugm3</th><th scope=col>TCEQ_acute_threshold_ppb</th><th scope=col>TCEQ_chronic_threshold_ugm3</th><th scope=col>TCEQ_chronic_threshold_ppb</th><th scope=col>NIOSH</th><th scope=col>MA_threshold</th><th scope=col>temp_k</th><th scope=col>mol_vol</th><th scope=col>conv</th></tr>\n",
              "\t<tr><th></th><th scope=col>&lt;chr&gt;</th><th scope=col>&lt;dbl&gt;</th><th scope=col>&lt;dbl&gt;</th><th scope=col>&lt;dbl&gt;</th><th scope=col>&lt;dbl&gt;</th><th scope=col>&lt;dbl&gt;</th><th scope=col>&lt;dbl&gt;</th><th scope=col>&lt;dbl&gt;</th><th scope=col>&lt;dbl&gt;</th><th scope=col>&lt;dbl&gt;</th><th scope=col>⋯</th><th scope=col>&lt;lgl&gt;</th><th scope=col>&lt;dbl&gt;</th><th scope=col>&lt;dbl&gt;</th><th scope=col>&lt;lgl&gt;</th><th scope=col>&lt;dbl&gt;</th><th scope=col>&lt;lgl&gt;</th><th scope=col>&lt;lgl&gt;</th><th scope=col>&lt;dbl&gt;</th><th scope=col>&lt;dbl&gt;</th><th scope=col>&lt;dbl&gt;</th></tr>\n",
              "</thead>\n",
              "<tbody>\n",
              "\t<tr><th scope=row>1</th><td>1,2-Dichloroethane    </td><td>1013.25</td><td>65</td><td>0</td><td>0.34325307</td><td>0.00000000</td><td>0.55113873</td><td>0.39159857</td><td>0.016920926</td><td>0.016920926</td><td>⋯</td><td>NA</td><td> 200</td><td> 592.97</td><td>NA</td><td>NA</td><td>NA</td><td>NA</td><td>291.4833</td><td>23.92135</td><td>0.2417275</td></tr>\n",
              "\t<tr><th scope=row>2</th><td>1,2,3-Trimethylbenzene</td><td>1013.25</td><td>68</td><td>0</td><td>0.05004188</td><td>0.00000000</td><td>0.06805696</td><td>0.04003350</td><td>0.004003350</td><td>0.004003350</td><td>⋯</td><td>NA</td><td>  NA</td><td>     NA</td><td>NA</td><td>NA</td><td>NA</td><td>NA</td><td>293.1500</td><td>24.05813</td><td>0.2001675</td></tr>\n",
              "\t<tr><th scope=row>3</th><td>1,2,4-Trimethylbenzene</td><td>1013.25</td><td>72</td><td>0</td><td>0.20571859</td><td>0.01008424</td><td>0.29042624</td><td>0.17143215</td><td>0.018151640</td><td>0.018151640</td><td>⋯</td><td>NA</td><td>5000</td><td>3000.00</td><td>NA</td><td>37</td><td>NA</td><td>NA</td><td>295.3722</td><td>24.24051</td><td>0.2016849</td></tr>\n",
              "\t<tr><th scope=row>4</th><td>1,3,5-Trimethylbenzene</td><td>1013.25</td><td>72</td><td>0</td><td>0.06655601</td><td>0.00000000</td><td>0.08874135</td><td>0.05647177</td><td>0.008067396</td><td>0.008067396</td><td>⋯</td><td>NA</td><td>   0</td><td>3000.00</td><td>NA</td><td>37</td><td>NA</td><td>NA</td><td>295.3722</td><td>24.24051</td><td>0.2016849</td></tr>\n",
              "\t<tr><th scope=row>5</th><td>1,4-Dichlorobenzene   </td><td>1013.25</td><td>70</td><td>0</td><td>0.01918897</td><td>0.00000000</td><td>0.02558530</td><td>0.01279265</td><td>0.003198162</td><td>0.007995405</td><td>⋯</td><td>NA</td><td>  NA</td><td>     NA</td><td>NA</td><td>NA</td><td>NA</td><td>NA</td><td>294.2611</td><td>24.14932</td><td>0.1599081</td></tr>\n",
              "\t<tr><th scope=row>6</th><td>alpha-Pinene          </td><td>1013.25</td><td>72</td><td>0</td><td>0.31850919</td><td>0.00000000</td><td>0.59965138</td><td>0.15302676</td><td>0.000000000</td><td>0.001779381</td><td>⋯</td><td>NA</td><td>  NA</td><td>     NA</td><td>NA</td><td>NA</td><td>NA</td><td>NA</td><td>295.3722</td><td>24.24051</td><td>0.1779381</td></tr>\n",
              "</tbody>\n",
              "</table>\n"
            ]
          },
          "metadata": {
            "tags": []
          }
        }
      ]
    },
    {
      "cell_type": "code",
      "metadata": {
        "id": "_FzLKUFuy61w",
        "colab_type": "code",
        "colab": {}
      },
      "source": [
        "data3 <- data2 %>% mutate(across(starts_with(\"TX\"),~./TCEQ_chronic_threshold_ppb))"
      ],
      "execution_count": null,
      "outputs": []
    },
    {
      "cell_type": "code",
      "metadata": {
        "id": "t0TsA5yzB11k",
        "colab_type": "code",
        "colab": {}
      },
      "source": [
        "just_results <- data3[, c(\"Name\", \"TXBVOC8a\", \"TXBVOC5b\", \"TXBVOC1a\",\t\"TXBVOC2a\",\t\"TXBVOC5a\",\t\"TXA.1.A\",\t\"TXA.1.B\", \"TXA.2.A\",\t\"TXA.3.A\",\t\"TXC.4.A\",\t\"TXC.5.A\",\t\"TXC.6.A\",\t\"TXB.7.A\",\t\"TXB.8.A\",\t\"TXB.8.B\",\t\"TXFB1\",\t\"TXFB2\", \"TXFB3\",\t\"TXC.6.C\",\t\"TXC.5.C\",\t\"TXC.4.C\",\t\"TXD.9.A\", \"TXD.10.A\", \"TXB.7.C\",\t\"TXB.8.C\", \"TXLB1\",\"TXA.1.C\",\"TXA.1.D\",\t\"TXA.2.C\",\t\"TXA.3.C\",\t\"TXA.1.E\", \"TXA.1.F\",\t\"TXA.2.E\",\t\"TXA.2.F\",\t\"TXA.3.E\"\t,\"TXA.3.F\")]"
      ],
      "execution_count": null,
      "outputs": []
    },
    {
      "cell_type": "code",
      "metadata": {
        "id": "lMjXUtiKEIyz",
        "colab_type": "code",
        "colab": {}
      },
      "source": [
        "over_thresh <- just_results %>% replace_with_na_at(.vars = c(2:37),\n",
        "                     condition = ~.x < 0.5)"
      ],
      "execution_count": null,
      "outputs": []
    },
    {
      "cell_type": "code",
      "metadata": {
        "id": "KyJF1UnKl30V",
        "colab_type": "code",
        "colab": {
          "base_uri": "https://localhost:8080/",
          "height": 838
        },
        "outputId": "14955c85-a506-47dc-ea42-8f2f1c065eb2"
      },
      "source": [
        "#adjust by blank (look up how to)\n",
        "just_results"
      ],
      "execution_count": null,
      "outputs": [
        {
          "output_type": "display_data",
          "data": {
            "text/plain": [
              "   Name                   TXBVOC8a     TXBVOC5b    TXBVOC1a     TXBVOC2a  \n",
              "1  1,2-Dichloroethane               NA          NA           NA         NA\n",
              "2  1,2,3-Trimethylbenzene           NA          NA           NA         NA\n",
              "3  1,2,4-Trimethylbenzene 0.000000e+00 0.027567568 1.351351e-03 0.03891892\n",
              "4  1,3,5-Trimethylbenzene 0.000000e+00 0.008918919 0.000000e+00 0.01189189\n",
              "5  1,4-Dichlorobenzene              NA          NA           NA         NA\n",
              "6  alpha-Pinene                     NA          NA           NA         NA\n",
              "7  Benzene                5.714286e-02 1.650000000 6.428571e-02 2.45000000\n",
              "8  Carbontetrachloride    0.000000e+00 0.525000000 0.000000e+00 0.66000000\n",
              "9  Chlorobenzene          0.000000e+00 0.012000000 0.000000e+00 0.02100000\n",
              "10 Chloroform             0.000000e+00 0.160000000 0.000000e+00 0.25500000\n",
              "11 d-Limonene                       NA          NA           NA         NA\n",
              "12 Ethyl Acetate          0.000000e+00 0.144200000 0.000000e+00 0.15745000\n",
              "13 Ethylbenzene           2.272727e-05 0.006909091 2.272727e-05 0.01209091\n",
              "14 Heptane                          NA          NA           NA         NA\n",
              "15 Isopropylbenzene                 NA          NA           NA         NA\n",
              "16 m,p-Xylene             1.052632e-04 0.051000000 1.578947e-04 0.07326316\n",
              "17 n-Decane                         NA          NA           NA         NA\n",
              "18 n-Dodecane                       NA          NA           NA         NA\n",
              "19 n-Nonane                         NA          NA           NA         NA\n",
              "20 n-Octane                         NA          NA           NA         NA\n",
              "21 n-Pentadecane                    NA          NA           NA         NA\n",
              "22 n-Tetradecane                    NA          NA           NA         NA\n",
              "23 n-Tridecane                      NA          NA           NA         NA\n",
              "24 n-Undecane                       NA          NA           NA         NA\n",
              "25 Naphthalene            4.210526e-03 0.018947368 3.157895e-03 0.02631579\n",
              "26 o-Xylene                         NA          NA           NA         NA\n",
              "27 p-Isopropyltoluene               NA          NA           NA         NA\n",
              "28 Propylbenzene                    NA          NA           NA         NA\n",
              "29 Styrene                1.818182e-04 0.018000000 1.818182e-04 0.04981818\n",
              "30 Tetrachloroethylene              NA          NA           NA         NA\n",
              "31 Tetrahydrofuran                  NA          NA           NA         NA\n",
              "32 Toluene                2.727273e-05 0.039890909 6.363636e-05 0.06617273\n",
              "   TXBVOC5a    TXA.1.A      TXA.1.B      TXA.2.A      TXA.3.A      ⋯\n",
              "1           NA           NA           NA           NA           NA ⋯\n",
              "2           NA           NA           NA           NA           NA ⋯\n",
              "3  0.022972973 2.432432e-03 2.432432e-03 0.0029729730 2.432432e-03 ⋯\n",
              "4  0.007567568 1.081081e-03 1.081081e-03 0.0010810811 1.081081e-03 ⋯\n",
              "5           NA           NA           NA           NA           NA ⋯\n",
              "6           NA           NA           NA           NA           NA ⋯\n",
              "7  1.314285714 7.142857e-01 6.285714e-01 0.7428571429 6.857143e-01 ⋯\n",
              "8  0.525000000 2.400000e-01 2.300000e-01 0.2550000000 2.500000e-01 ⋯\n",
              "9  0.008000000 0.000000e+00 0.000000e+00 0.0000000000 0.000000e+00 ⋯\n",
              "10 0.170000000 3.500000e-02 3.500000e-02 0.0400000000 3.500000e-02 ⋯\n",
              "11          NA           NA           NA           NA           NA ⋯\n",
              "12 0.045900000 0.000000e+00 7.750000e-04 0.0027500000 0.000000e+00 ⋯\n",
              "13 0.004295455 3.181818e-04 2.727273e-04 0.0003181818 2.727273e-04 ⋯\n",
              "14          NA           NA           NA           NA           NA ⋯\n",
              "15          NA           NA           NA           NA           NA ⋯\n",
              "16 0.024894737 3.315789e-03 3.105263e-03 0.0034736842 3.315789e-03 ⋯\n",
              "17          NA           NA           NA           NA           NA ⋯\n",
              "18          NA           NA           NA           NA           NA ⋯\n",
              "19          NA           NA           NA           NA           NA ⋯\n",
              "20          NA           NA           NA           NA           NA ⋯\n",
              "21          NA           NA           NA           NA           NA ⋯\n",
              "22          NA           NA           NA           NA           NA ⋯\n",
              "23          NA           NA           NA           NA           NA ⋯\n",
              "24          NA           NA           NA           NA           NA ⋯\n",
              "25 0.014736842 2.105263e-03 2.105263e-03 0.0042105263 2.105263e-03 ⋯\n",
              "26          NA           NA           NA           NA           NA ⋯\n",
              "27          NA           NA           NA           NA           NA ⋯\n",
              "28          NA           NA           NA           NA           NA ⋯\n",
              "29 0.019636364 9.090909e-05 9.090909e-05 0.0001818182 9.090909e-05 ⋯\n",
              "30          NA           NA           NA           NA           NA ⋯\n",
              "31          NA           NA           NA           NA           NA ⋯\n",
              "32 0.015800000 7.181818e-04 7.000000e-04 0.0008545455 7.818182e-04 ⋯\n",
              "   TXA.1.C      TXA.1.D      TXA.2.C      TXA.3.C      TXA.1.E     \n",
              "1            NA           NA           NA           NA           NA\n",
              "2            NA           NA           NA           NA           NA\n",
              "3  0.0024324324 0.0021621622 0.0016216216 1.891892e-03 0.0081081081\n",
              "4  0.0010810811 0.0008108108 0.0008108108 1.081081e-03 0.0021621622\n",
              "5            NA           NA           NA           NA           NA\n",
              "6            NA           NA           NA           NA           NA\n",
              "7  0.4857142857 0.5285714286 0.5000000000 6.071429e-01 0.4642857143\n",
              "8  0.1800000000 0.1700000000 0.1750000000 1.850000e-01 0.1700000000\n",
              "9  0.0000000000 0.0000000000 0.0000000000 0.000000e+00 0.0000000000\n",
              "10 0.0700000000 0.0250000000 0.0250000000 2.500000e-02 0.0250000000\n",
              "11           NA           NA           NA           NA           NA\n",
              "12 0.0016000000 0.0000000000 0.0000000000 0.000000e+00 0.0000000000\n",
              "13 0.0002045455 0.0001590909 0.0001363636 1.590909e-04 0.0002272727\n",
              "14           NA           NA           NA           NA           NA\n",
              "15           NA           NA           NA           NA           NA\n",
              "16 0.0022105263 0.0018421053 0.0016842105 2.263158e-03 0.0027368421\n",
              "17           NA           NA           NA           NA           NA\n",
              "18           NA           NA           NA           NA           NA\n",
              "19           NA           NA           NA           NA           NA\n",
              "20           NA           NA           NA           NA           NA\n",
              "21           NA           NA           NA           NA           NA\n",
              "22           NA           NA           NA           NA           NA\n",
              "23           NA           NA           NA           NA           NA\n",
              "24           NA           NA           NA           NA           NA\n",
              "25 0.0073684211 0.0042105263 0.0031578947 3.157895e-03 0.0031578947\n",
              "26           NA           NA           NA           NA           NA\n",
              "27           NA           NA           NA           NA           NA\n",
              "28           NA           NA           NA           NA           NA\n",
              "29 0.0003636364 0.0001818182 0.0001818182 9.090909e-05 0.0001818182\n",
              "30           NA           NA           NA           NA           NA\n",
              "31           NA           NA           NA           NA           NA\n",
              "32 0.0008272727 0.0006181818 0.0005636364 7.272727e-04 0.0025636364\n",
              "   TXA.1.F      TXA.2.E      TXA.2.F      TXA.3.E      TXA.3.F     \n",
              "1            NA           NA           NA           NA           NA\n",
              "2            NA           NA           NA           NA           NA\n",
              "3  0.0078378378 2.432432e-03 0.0024324324 0.0021621622 0.0021621622\n",
              "4  0.0021621622 1.081081e-03 0.0010810811 0.0010810811 0.0008108108\n",
              "5            NA           NA           NA           NA           NA\n",
              "6            NA           NA           NA           NA           NA\n",
              "7  0.4642857143 4.500000e-01 0.4785714286 0.4285714286 0.4000000000\n",
              "8  0.1750000000 1.800000e-01 0.1750000000 0.1800000000 0.1750000000\n",
              "9  0.0000000000 0.000000e+00 0.0000000000 0.0000000000 0.0000000000\n",
              "10 0.0250000000 2.500000e-02 0.0250000000 0.0250000000 0.0250000000\n",
              "11           NA           NA           NA           NA           NA\n",
              "12 0.0000000000 0.000000e+00 0.0000000000 0.0002250000 0.0001500000\n",
              "13 0.0002045455 1.136364e-04 0.0001363636 0.0001590909 0.0001363636\n",
              "14           NA           NA           NA           NA           NA\n",
              "15           NA           NA           NA           NA           NA\n",
              "16 0.0026842105 1.631579e-03 0.0016842105 0.0019473684 0.0018421053\n",
              "17           NA           NA           NA           NA           NA\n",
              "18           NA           NA           NA           NA           NA\n",
              "19           NA           NA           NA           NA           NA\n",
              "20           NA           NA           NA           NA           NA\n",
              "21           NA           NA           NA           NA           NA\n",
              "22           NA           NA           NA           NA           NA\n",
              "23           NA           NA           NA           NA           NA\n",
              "24           NA           NA           NA           NA           NA\n",
              "25 0.0031578947 2.105263e-03 0.0021052632 0.0021052632 0.0031578947\n",
              "26           NA           NA           NA           NA           NA\n",
              "27           NA           NA           NA           NA           NA\n",
              "28           NA           NA           NA           NA           NA\n",
              "29 0.0001818182 9.090909e-05 0.0004545455 0.0003636364 0.0002727273\n",
              "30           NA           NA           NA           NA           NA\n",
              "31           NA           NA           NA           NA           NA\n",
              "32 0.0027000000 5.090909e-04 0.0005363636 0.0006363636 0.0005909091"
            ],
            "text/latex": "A data.frame: 32 × 37\n\\begin{tabular}{lllllllllllllllllllll}\n Name & TXBVOC8a & TXBVOC5b & TXBVOC1a & TXBVOC2a & TXBVOC5a & TXA.1.A & TXA.1.B & TXA.2.A & TXA.3.A & ⋯ & TXA.1.C & TXA.1.D & TXA.2.C & TXA.3.C & TXA.1.E & TXA.1.F & TXA.2.E & TXA.2.F & TXA.3.E & TXA.3.F\\\\\n <chr> & <dbl> & <dbl> & <dbl> & <dbl> & <dbl> & <dbl> & <dbl> & <dbl> & <dbl> & ⋯ & <dbl> & <dbl> & <dbl> & <dbl> & <dbl> & <dbl> & <dbl> & <dbl> & <dbl> & <dbl>\\\\\n\\hline\n\t 1,2-Dichloroethane     &           NA &          NA &           NA &         NA &          NA &           NA &           NA &           NA &           NA & ⋯ &           NA &           NA &           NA &           NA &           NA &           NA &           NA &           NA &           NA &           NA\\\\\n\t 1,2,3-Trimethylbenzene &           NA &          NA &           NA &         NA &          NA &           NA &           NA &           NA &           NA & ⋯ &           NA &           NA &           NA &           NA &           NA &           NA &           NA &           NA &           NA &           NA\\\\\n\t 1,2,4-Trimethylbenzene & 0.000000e+00 & 0.027567568 & 1.351351e-03 & 0.03891892 & 0.022972973 & 2.432432e-03 & 2.432432e-03 & 0.0029729730 & 2.432432e-03 & ⋯ & 0.0024324324 & 0.0021621622 & 0.0016216216 & 1.891892e-03 & 0.0081081081 & 0.0078378378 & 2.432432e-03 & 0.0024324324 & 0.0021621622 & 0.0021621622\\\\\n\t 1,3,5-Trimethylbenzene & 0.000000e+00 & 0.008918919 & 0.000000e+00 & 0.01189189 & 0.007567568 & 1.081081e-03 & 1.081081e-03 & 0.0010810811 & 1.081081e-03 & ⋯ & 0.0010810811 & 0.0008108108 & 0.0008108108 & 1.081081e-03 & 0.0021621622 & 0.0021621622 & 1.081081e-03 & 0.0010810811 & 0.0010810811 & 0.0008108108\\\\\n\t 1,4-Dichlorobenzene    &           NA &          NA &           NA &         NA &          NA &           NA &           NA &           NA &           NA & ⋯ &           NA &           NA &           NA &           NA &           NA &           NA &           NA &           NA &           NA &           NA\\\\\n\t alpha-Pinene           &           NA &          NA &           NA &         NA &          NA &           NA &           NA &           NA &           NA & ⋯ &           NA &           NA &           NA &           NA &           NA &           NA &           NA &           NA &           NA &           NA\\\\\n\t Benzene                & 5.714286e-02 & 1.650000000 & 6.428571e-02 & 2.45000000 & 1.314285714 & 7.142857e-01 & 6.285714e-01 & 0.7428571429 & 6.857143e-01 & ⋯ & 0.4857142857 & 0.5285714286 & 0.5000000000 & 6.071429e-01 & 0.4642857143 & 0.4642857143 & 4.500000e-01 & 0.4785714286 & 0.4285714286 & 0.4000000000\\\\\n\t Carbontetrachloride    & 0.000000e+00 & 0.525000000 & 0.000000e+00 & 0.66000000 & 0.525000000 & 2.400000e-01 & 2.300000e-01 & 0.2550000000 & 2.500000e-01 & ⋯ & 0.1800000000 & 0.1700000000 & 0.1750000000 & 1.850000e-01 & 0.1700000000 & 0.1750000000 & 1.800000e-01 & 0.1750000000 & 0.1800000000 & 0.1750000000\\\\\n\t Chlorobenzene          & 0.000000e+00 & 0.012000000 & 0.000000e+00 & 0.02100000 & 0.008000000 & 0.000000e+00 & 0.000000e+00 & 0.0000000000 & 0.000000e+00 & ⋯ & 0.0000000000 & 0.0000000000 & 0.0000000000 & 0.000000e+00 & 0.0000000000 & 0.0000000000 & 0.000000e+00 & 0.0000000000 & 0.0000000000 & 0.0000000000\\\\\n\t Chloroform             & 0.000000e+00 & 0.160000000 & 0.000000e+00 & 0.25500000 & 0.170000000 & 3.500000e-02 & 3.500000e-02 & 0.0400000000 & 3.500000e-02 & ⋯ & 0.0700000000 & 0.0250000000 & 0.0250000000 & 2.500000e-02 & 0.0250000000 & 0.0250000000 & 2.500000e-02 & 0.0250000000 & 0.0250000000 & 0.0250000000\\\\\n\t d-Limonene             &           NA &          NA &           NA &         NA &          NA &           NA &           NA &           NA &           NA & ⋯ &           NA &           NA &           NA &           NA &           NA &           NA &           NA &           NA &           NA &           NA\\\\\n\t Ethyl Acetate          & 0.000000e+00 & 0.144200000 & 0.000000e+00 & 0.15745000 & 0.045900000 & 0.000000e+00 & 7.750000e-04 & 0.0027500000 & 0.000000e+00 & ⋯ & 0.0016000000 & 0.0000000000 & 0.0000000000 & 0.000000e+00 & 0.0000000000 & 0.0000000000 & 0.000000e+00 & 0.0000000000 & 0.0002250000 & 0.0001500000\\\\\n\t Ethylbenzene           & 2.272727e-05 & 0.006909091 & 2.272727e-05 & 0.01209091 & 0.004295455 & 3.181818e-04 & 2.727273e-04 & 0.0003181818 & 2.727273e-04 & ⋯ & 0.0002045455 & 0.0001590909 & 0.0001363636 & 1.590909e-04 & 0.0002272727 & 0.0002045455 & 1.136364e-04 & 0.0001363636 & 0.0001590909 & 0.0001363636\\\\\n\t Heptane                &           NA &          NA &           NA &         NA &          NA &           NA &           NA &           NA &           NA & ⋯ &           NA &           NA &           NA &           NA &           NA &           NA &           NA &           NA &           NA &           NA\\\\\n\t Isopropylbenzene       &           NA &          NA &           NA &         NA &          NA &           NA &           NA &           NA &           NA & ⋯ &           NA &           NA &           NA &           NA &           NA &           NA &           NA &           NA &           NA &           NA\\\\\n\t m,p-Xylene             & 1.052632e-04 & 0.051000000 & 1.578947e-04 & 0.07326316 & 0.024894737 & 3.315789e-03 & 3.105263e-03 & 0.0034736842 & 3.315789e-03 & ⋯ & 0.0022105263 & 0.0018421053 & 0.0016842105 & 2.263158e-03 & 0.0027368421 & 0.0026842105 & 1.631579e-03 & 0.0016842105 & 0.0019473684 & 0.0018421053\\\\\n\t n-Decane               &           NA &          NA &           NA &         NA &          NA &           NA &           NA &           NA &           NA & ⋯ &           NA &           NA &           NA &           NA &           NA &           NA &           NA &           NA &           NA &           NA\\\\\n\t n-Dodecane             &           NA &          NA &           NA &         NA &          NA &           NA &           NA &           NA &           NA & ⋯ &           NA &           NA &           NA &           NA &           NA &           NA &           NA &           NA &           NA &           NA\\\\\n\t n-Nonane               &           NA &          NA &           NA &         NA &          NA &           NA &           NA &           NA &           NA & ⋯ &           NA &           NA &           NA &           NA &           NA &           NA &           NA &           NA &           NA &           NA\\\\\n\t n-Octane               &           NA &          NA &           NA &         NA &          NA &           NA &           NA &           NA &           NA & ⋯ &           NA &           NA &           NA &           NA &           NA &           NA &           NA &           NA &           NA &           NA\\\\\n\t n-Pentadecane          &           NA &          NA &           NA &         NA &          NA &           NA &           NA &           NA &           NA & ⋯ &           NA &           NA &           NA &           NA &           NA &           NA &           NA &           NA &           NA &           NA\\\\\n\t n-Tetradecane          &           NA &          NA &           NA &         NA &          NA &           NA &           NA &           NA &           NA & ⋯ &           NA &           NA &           NA &           NA &           NA &           NA &           NA &           NA &           NA &           NA\\\\\n\t n-Tridecane            &           NA &          NA &           NA &         NA &          NA &           NA &           NA &           NA &           NA & ⋯ &           NA &           NA &           NA &           NA &           NA &           NA &           NA &           NA &           NA &           NA\\\\\n\t n-Undecane             &           NA &          NA &           NA &         NA &          NA &           NA &           NA &           NA &           NA & ⋯ &           NA &           NA &           NA &           NA &           NA &           NA &           NA &           NA &           NA &           NA\\\\\n\t Naphthalene            & 4.210526e-03 & 0.018947368 & 3.157895e-03 & 0.02631579 & 0.014736842 & 2.105263e-03 & 2.105263e-03 & 0.0042105263 & 2.105263e-03 & ⋯ & 0.0073684211 & 0.0042105263 & 0.0031578947 & 3.157895e-03 & 0.0031578947 & 0.0031578947 & 2.105263e-03 & 0.0021052632 & 0.0021052632 & 0.0031578947\\\\\n\t o-Xylene               &           NA &          NA &           NA &         NA &          NA &           NA &           NA &           NA &           NA & ⋯ &           NA &           NA &           NA &           NA &           NA &           NA &           NA &           NA &           NA &           NA\\\\\n\t p-Isopropyltoluene     &           NA &          NA &           NA &         NA &          NA &           NA &           NA &           NA &           NA & ⋯ &           NA &           NA &           NA &           NA &           NA &           NA &           NA &           NA &           NA &           NA\\\\\n\t Propylbenzene          &           NA &          NA &           NA &         NA &          NA &           NA &           NA &           NA &           NA & ⋯ &           NA &           NA &           NA &           NA &           NA &           NA &           NA &           NA &           NA &           NA\\\\\n\t Styrene                & 1.818182e-04 & 0.018000000 & 1.818182e-04 & 0.04981818 & 0.019636364 & 9.090909e-05 & 9.090909e-05 & 0.0001818182 & 9.090909e-05 & ⋯ & 0.0003636364 & 0.0001818182 & 0.0001818182 & 9.090909e-05 & 0.0001818182 & 0.0001818182 & 9.090909e-05 & 0.0004545455 & 0.0003636364 & 0.0002727273\\\\\n\t Tetrachloroethylene    &           NA &          NA &           NA &         NA &          NA &           NA &           NA &           NA &           NA & ⋯ &           NA &           NA &           NA &           NA &           NA &           NA &           NA &           NA &           NA &           NA\\\\\n\t Tetrahydrofuran        &           NA &          NA &           NA &         NA &          NA &           NA &           NA &           NA &           NA & ⋯ &           NA &           NA &           NA &           NA &           NA &           NA &           NA &           NA &           NA &           NA\\\\\n\t Toluene                & 2.727273e-05 & 0.039890909 & 6.363636e-05 & 0.06617273 & 0.015800000 & 7.181818e-04 & 7.000000e-04 & 0.0008545455 & 7.818182e-04 & ⋯ & 0.0008272727 & 0.0006181818 & 0.0005636364 & 7.272727e-04 & 0.0025636364 & 0.0027000000 & 5.090909e-04 & 0.0005363636 & 0.0006363636 & 0.0005909091\\\\\n\\end{tabular}\n",
            "text/markdown": "\nA data.frame: 32 × 37\n\n| Name &lt;chr&gt; | TXBVOC8a &lt;dbl&gt; | TXBVOC5b &lt;dbl&gt; | TXBVOC1a &lt;dbl&gt; | TXBVOC2a &lt;dbl&gt; | TXBVOC5a &lt;dbl&gt; | TXA.1.A &lt;dbl&gt; | TXA.1.B &lt;dbl&gt; | TXA.2.A &lt;dbl&gt; | TXA.3.A &lt;dbl&gt; | ⋯ ⋯ | TXA.1.C &lt;dbl&gt; | TXA.1.D &lt;dbl&gt; | TXA.2.C &lt;dbl&gt; | TXA.3.C &lt;dbl&gt; | TXA.1.E &lt;dbl&gt; | TXA.1.F &lt;dbl&gt; | TXA.2.E &lt;dbl&gt; | TXA.2.F &lt;dbl&gt; | TXA.3.E &lt;dbl&gt; | TXA.3.F &lt;dbl&gt; |\n|---|---|---|---|---|---|---|---|---|---|---|---|---|---|---|---|---|---|---|---|---|\n| 1,2-Dichloroethane     |           NA |          NA |           NA |         NA |          NA |           NA |           NA |           NA |           NA | ⋯ |           NA |           NA |           NA |           NA |           NA |           NA |           NA |           NA |           NA |           NA |\n| 1,2,3-Trimethylbenzene |           NA |          NA |           NA |         NA |          NA |           NA |           NA |           NA |           NA | ⋯ |           NA |           NA |           NA |           NA |           NA |           NA |           NA |           NA |           NA |           NA |\n| 1,2,4-Trimethylbenzene | 0.000000e+00 | 0.027567568 | 1.351351e-03 | 0.03891892 | 0.022972973 | 2.432432e-03 | 2.432432e-03 | 0.0029729730 | 2.432432e-03 | ⋯ | 0.0024324324 | 0.0021621622 | 0.0016216216 | 1.891892e-03 | 0.0081081081 | 0.0078378378 | 2.432432e-03 | 0.0024324324 | 0.0021621622 | 0.0021621622 |\n| 1,3,5-Trimethylbenzene | 0.000000e+00 | 0.008918919 | 0.000000e+00 | 0.01189189 | 0.007567568 | 1.081081e-03 | 1.081081e-03 | 0.0010810811 | 1.081081e-03 | ⋯ | 0.0010810811 | 0.0008108108 | 0.0008108108 | 1.081081e-03 | 0.0021621622 | 0.0021621622 | 1.081081e-03 | 0.0010810811 | 0.0010810811 | 0.0008108108 |\n| 1,4-Dichlorobenzene    |           NA |          NA |           NA |         NA |          NA |           NA |           NA |           NA |           NA | ⋯ |           NA |           NA |           NA |           NA |           NA |           NA |           NA |           NA |           NA |           NA |\n| alpha-Pinene           |           NA |          NA |           NA |         NA |          NA |           NA |           NA |           NA |           NA | ⋯ |           NA |           NA |           NA |           NA |           NA |           NA |           NA |           NA |           NA |           NA |\n| Benzene                | 5.714286e-02 | 1.650000000 | 6.428571e-02 | 2.45000000 | 1.314285714 | 7.142857e-01 | 6.285714e-01 | 0.7428571429 | 6.857143e-01 | ⋯ | 0.4857142857 | 0.5285714286 | 0.5000000000 | 6.071429e-01 | 0.4642857143 | 0.4642857143 | 4.500000e-01 | 0.4785714286 | 0.4285714286 | 0.4000000000 |\n| Carbontetrachloride    | 0.000000e+00 | 0.525000000 | 0.000000e+00 | 0.66000000 | 0.525000000 | 2.400000e-01 | 2.300000e-01 | 0.2550000000 | 2.500000e-01 | ⋯ | 0.1800000000 | 0.1700000000 | 0.1750000000 | 1.850000e-01 | 0.1700000000 | 0.1750000000 | 1.800000e-01 | 0.1750000000 | 0.1800000000 | 0.1750000000 |\n| Chlorobenzene          | 0.000000e+00 | 0.012000000 | 0.000000e+00 | 0.02100000 | 0.008000000 | 0.000000e+00 | 0.000000e+00 | 0.0000000000 | 0.000000e+00 | ⋯ | 0.0000000000 | 0.0000000000 | 0.0000000000 | 0.000000e+00 | 0.0000000000 | 0.0000000000 | 0.000000e+00 | 0.0000000000 | 0.0000000000 | 0.0000000000 |\n| Chloroform             | 0.000000e+00 | 0.160000000 | 0.000000e+00 | 0.25500000 | 0.170000000 | 3.500000e-02 | 3.500000e-02 | 0.0400000000 | 3.500000e-02 | ⋯ | 0.0700000000 | 0.0250000000 | 0.0250000000 | 2.500000e-02 | 0.0250000000 | 0.0250000000 | 2.500000e-02 | 0.0250000000 | 0.0250000000 | 0.0250000000 |\n| d-Limonene             |           NA |          NA |           NA |         NA |          NA |           NA |           NA |           NA |           NA | ⋯ |           NA |           NA |           NA |           NA |           NA |           NA |           NA |           NA |           NA |           NA |\n| Ethyl Acetate          | 0.000000e+00 | 0.144200000 | 0.000000e+00 | 0.15745000 | 0.045900000 | 0.000000e+00 | 7.750000e-04 | 0.0027500000 | 0.000000e+00 | ⋯ | 0.0016000000 | 0.0000000000 | 0.0000000000 | 0.000000e+00 | 0.0000000000 | 0.0000000000 | 0.000000e+00 | 0.0000000000 | 0.0002250000 | 0.0001500000 |\n| Ethylbenzene           | 2.272727e-05 | 0.006909091 | 2.272727e-05 | 0.01209091 | 0.004295455 | 3.181818e-04 | 2.727273e-04 | 0.0003181818 | 2.727273e-04 | ⋯ | 0.0002045455 | 0.0001590909 | 0.0001363636 | 1.590909e-04 | 0.0002272727 | 0.0002045455 | 1.136364e-04 | 0.0001363636 | 0.0001590909 | 0.0001363636 |\n| Heptane                |           NA |          NA |           NA |         NA |          NA |           NA |           NA |           NA |           NA | ⋯ |           NA |           NA |           NA |           NA |           NA |           NA |           NA |           NA |           NA |           NA |\n| Isopropylbenzene       |           NA |          NA |           NA |         NA |          NA |           NA |           NA |           NA |           NA | ⋯ |           NA |           NA |           NA |           NA |           NA |           NA |           NA |           NA |           NA |           NA |\n| m,p-Xylene             | 1.052632e-04 | 0.051000000 | 1.578947e-04 | 0.07326316 | 0.024894737 | 3.315789e-03 | 3.105263e-03 | 0.0034736842 | 3.315789e-03 | ⋯ | 0.0022105263 | 0.0018421053 | 0.0016842105 | 2.263158e-03 | 0.0027368421 | 0.0026842105 | 1.631579e-03 | 0.0016842105 | 0.0019473684 | 0.0018421053 |\n| n-Decane               |           NA |          NA |           NA |         NA |          NA |           NA |           NA |           NA |           NA | ⋯ |           NA |           NA |           NA |           NA |           NA |           NA |           NA |           NA |           NA |           NA |\n| n-Dodecane             |           NA |          NA |           NA |         NA |          NA |           NA |           NA |           NA |           NA | ⋯ |           NA |           NA |           NA |           NA |           NA |           NA |           NA |           NA |           NA |           NA |\n| n-Nonane               |           NA |          NA |           NA |         NA |          NA |           NA |           NA |           NA |           NA | ⋯ |           NA |           NA |           NA |           NA |           NA |           NA |           NA |           NA |           NA |           NA |\n| n-Octane               |           NA |          NA |           NA |         NA |          NA |           NA |           NA |           NA |           NA | ⋯ |           NA |           NA |           NA |           NA |           NA |           NA |           NA |           NA |           NA |           NA |\n| n-Pentadecane          |           NA |          NA |           NA |         NA |          NA |           NA |           NA |           NA |           NA | ⋯ |           NA |           NA |           NA |           NA |           NA |           NA |           NA |           NA |           NA |           NA |\n| n-Tetradecane          |           NA |          NA |           NA |         NA |          NA |           NA |           NA |           NA |           NA | ⋯ |           NA |           NA |           NA |           NA |           NA |           NA |           NA |           NA |           NA |           NA |\n| n-Tridecane            |           NA |          NA |           NA |         NA |          NA |           NA |           NA |           NA |           NA | ⋯ |           NA |           NA |           NA |           NA |           NA |           NA |           NA |           NA |           NA |           NA |\n| n-Undecane             |           NA |          NA |           NA |         NA |          NA |           NA |           NA |           NA |           NA | ⋯ |           NA |           NA |           NA |           NA |           NA |           NA |           NA |           NA |           NA |           NA |\n| Naphthalene            | 4.210526e-03 | 0.018947368 | 3.157895e-03 | 0.02631579 | 0.014736842 | 2.105263e-03 | 2.105263e-03 | 0.0042105263 | 2.105263e-03 | ⋯ | 0.0073684211 | 0.0042105263 | 0.0031578947 | 3.157895e-03 | 0.0031578947 | 0.0031578947 | 2.105263e-03 | 0.0021052632 | 0.0021052632 | 0.0031578947 |\n| o-Xylene               |           NA |          NA |           NA |         NA |          NA |           NA |           NA |           NA |           NA | ⋯ |           NA |           NA |           NA |           NA |           NA |           NA |           NA |           NA |           NA |           NA |\n| p-Isopropyltoluene     |           NA |          NA |           NA |         NA |          NA |           NA |           NA |           NA |           NA | ⋯ |           NA |           NA |           NA |           NA |           NA |           NA |           NA |           NA |           NA |           NA |\n| Propylbenzene          |           NA |          NA |           NA |         NA |          NA |           NA |           NA |           NA |           NA | ⋯ |           NA |           NA |           NA |           NA |           NA |           NA |           NA |           NA |           NA |           NA |\n| Styrene                | 1.818182e-04 | 0.018000000 | 1.818182e-04 | 0.04981818 | 0.019636364 | 9.090909e-05 | 9.090909e-05 | 0.0001818182 | 9.090909e-05 | ⋯ | 0.0003636364 | 0.0001818182 | 0.0001818182 | 9.090909e-05 | 0.0001818182 | 0.0001818182 | 9.090909e-05 | 0.0004545455 | 0.0003636364 | 0.0002727273 |\n| Tetrachloroethylene    |           NA |          NA |           NA |         NA |          NA |           NA |           NA |           NA |           NA | ⋯ |           NA |           NA |           NA |           NA |           NA |           NA |           NA |           NA |           NA |           NA |\n| Tetrahydrofuran        |           NA |          NA |           NA |         NA |          NA |           NA |           NA |           NA |           NA | ⋯ |           NA |           NA |           NA |           NA |           NA |           NA |           NA |           NA |           NA |           NA |\n| Toluene                | 2.727273e-05 | 0.039890909 | 6.363636e-05 | 0.06617273 | 0.015800000 | 7.181818e-04 | 7.000000e-04 | 0.0008545455 | 7.818182e-04 | ⋯ | 0.0008272727 | 0.0006181818 | 0.0005636364 | 7.272727e-04 | 0.0025636364 | 0.0027000000 | 5.090909e-04 | 0.0005363636 | 0.0006363636 | 0.0005909091 |\n\n",
            "text/html": [
              "<table>\n",
              "<caption>A data.frame: 32 × 37</caption>\n",
              "<thead>\n",
              "\t<tr><th scope=col>Name</th><th scope=col>TXBVOC8a</th><th scope=col>TXBVOC5b</th><th scope=col>TXBVOC1a</th><th scope=col>TXBVOC2a</th><th scope=col>TXBVOC5a</th><th scope=col>TXA.1.A</th><th scope=col>TXA.1.B</th><th scope=col>TXA.2.A</th><th scope=col>TXA.3.A</th><th scope=col>⋯</th><th scope=col>TXA.1.C</th><th scope=col>TXA.1.D</th><th scope=col>TXA.2.C</th><th scope=col>TXA.3.C</th><th scope=col>TXA.1.E</th><th scope=col>TXA.1.F</th><th scope=col>TXA.2.E</th><th scope=col>TXA.2.F</th><th scope=col>TXA.3.E</th><th scope=col>TXA.3.F</th></tr>\n",
              "\t<tr><th scope=col>&lt;chr&gt;</th><th scope=col>&lt;dbl&gt;</th><th scope=col>&lt;dbl&gt;</th><th scope=col>&lt;dbl&gt;</th><th scope=col>&lt;dbl&gt;</th><th scope=col>&lt;dbl&gt;</th><th scope=col>&lt;dbl&gt;</th><th scope=col>&lt;dbl&gt;</th><th scope=col>&lt;dbl&gt;</th><th scope=col>&lt;dbl&gt;</th><th scope=col>⋯</th><th scope=col>&lt;dbl&gt;</th><th scope=col>&lt;dbl&gt;</th><th scope=col>&lt;dbl&gt;</th><th scope=col>&lt;dbl&gt;</th><th scope=col>&lt;dbl&gt;</th><th scope=col>&lt;dbl&gt;</th><th scope=col>&lt;dbl&gt;</th><th scope=col>&lt;dbl&gt;</th><th scope=col>&lt;dbl&gt;</th><th scope=col>&lt;dbl&gt;</th></tr>\n",
              "</thead>\n",
              "<tbody>\n",
              "\t<tr><td>1,2-Dichloroethane    </td><td>          NA</td><td>         NA</td><td>          NA</td><td>        NA</td><td>         NA</td><td>          NA</td><td>          NA</td><td>          NA</td><td>          NA</td><td>⋯</td><td>          NA</td><td>          NA</td><td>          NA</td><td>          NA</td><td>          NA</td><td>          NA</td><td>          NA</td><td>          NA</td><td>          NA</td><td>          NA</td></tr>\n",
              "\t<tr><td>1,2,3-Trimethylbenzene</td><td>          NA</td><td>         NA</td><td>          NA</td><td>        NA</td><td>         NA</td><td>          NA</td><td>          NA</td><td>          NA</td><td>          NA</td><td>⋯</td><td>          NA</td><td>          NA</td><td>          NA</td><td>          NA</td><td>          NA</td><td>          NA</td><td>          NA</td><td>          NA</td><td>          NA</td><td>          NA</td></tr>\n",
              "\t<tr><td>1,2,4-Trimethylbenzene</td><td>0.000000e+00</td><td>0.027567568</td><td>1.351351e-03</td><td>0.03891892</td><td>0.022972973</td><td>2.432432e-03</td><td>2.432432e-03</td><td>0.0029729730</td><td>2.432432e-03</td><td>⋯</td><td>0.0024324324</td><td>0.0021621622</td><td>0.0016216216</td><td>1.891892e-03</td><td>0.0081081081</td><td>0.0078378378</td><td>2.432432e-03</td><td>0.0024324324</td><td>0.0021621622</td><td>0.0021621622</td></tr>\n",
              "\t<tr><td>1,3,5-Trimethylbenzene</td><td>0.000000e+00</td><td>0.008918919</td><td>0.000000e+00</td><td>0.01189189</td><td>0.007567568</td><td>1.081081e-03</td><td>1.081081e-03</td><td>0.0010810811</td><td>1.081081e-03</td><td>⋯</td><td>0.0010810811</td><td>0.0008108108</td><td>0.0008108108</td><td>1.081081e-03</td><td>0.0021621622</td><td>0.0021621622</td><td>1.081081e-03</td><td>0.0010810811</td><td>0.0010810811</td><td>0.0008108108</td></tr>\n",
              "\t<tr><td>1,4-Dichlorobenzene   </td><td>          NA</td><td>         NA</td><td>          NA</td><td>        NA</td><td>         NA</td><td>          NA</td><td>          NA</td><td>          NA</td><td>          NA</td><td>⋯</td><td>          NA</td><td>          NA</td><td>          NA</td><td>          NA</td><td>          NA</td><td>          NA</td><td>          NA</td><td>          NA</td><td>          NA</td><td>          NA</td></tr>\n",
              "\t<tr><td>alpha-Pinene          </td><td>          NA</td><td>         NA</td><td>          NA</td><td>        NA</td><td>         NA</td><td>          NA</td><td>          NA</td><td>          NA</td><td>          NA</td><td>⋯</td><td>          NA</td><td>          NA</td><td>          NA</td><td>          NA</td><td>          NA</td><td>          NA</td><td>          NA</td><td>          NA</td><td>          NA</td><td>          NA</td></tr>\n",
              "\t<tr><td>Benzene               </td><td>5.714286e-02</td><td>1.650000000</td><td>6.428571e-02</td><td>2.45000000</td><td>1.314285714</td><td>7.142857e-01</td><td>6.285714e-01</td><td>0.7428571429</td><td>6.857143e-01</td><td>⋯</td><td>0.4857142857</td><td>0.5285714286</td><td>0.5000000000</td><td>6.071429e-01</td><td>0.4642857143</td><td>0.4642857143</td><td>4.500000e-01</td><td>0.4785714286</td><td>0.4285714286</td><td>0.4000000000</td></tr>\n",
              "\t<tr><td>Carbontetrachloride   </td><td>0.000000e+00</td><td>0.525000000</td><td>0.000000e+00</td><td>0.66000000</td><td>0.525000000</td><td>2.400000e-01</td><td>2.300000e-01</td><td>0.2550000000</td><td>2.500000e-01</td><td>⋯</td><td>0.1800000000</td><td>0.1700000000</td><td>0.1750000000</td><td>1.850000e-01</td><td>0.1700000000</td><td>0.1750000000</td><td>1.800000e-01</td><td>0.1750000000</td><td>0.1800000000</td><td>0.1750000000</td></tr>\n",
              "\t<tr><td>Chlorobenzene         </td><td>0.000000e+00</td><td>0.012000000</td><td>0.000000e+00</td><td>0.02100000</td><td>0.008000000</td><td>0.000000e+00</td><td>0.000000e+00</td><td>0.0000000000</td><td>0.000000e+00</td><td>⋯</td><td>0.0000000000</td><td>0.0000000000</td><td>0.0000000000</td><td>0.000000e+00</td><td>0.0000000000</td><td>0.0000000000</td><td>0.000000e+00</td><td>0.0000000000</td><td>0.0000000000</td><td>0.0000000000</td></tr>\n",
              "\t<tr><td>Chloroform            </td><td>0.000000e+00</td><td>0.160000000</td><td>0.000000e+00</td><td>0.25500000</td><td>0.170000000</td><td>3.500000e-02</td><td>3.500000e-02</td><td>0.0400000000</td><td>3.500000e-02</td><td>⋯</td><td>0.0700000000</td><td>0.0250000000</td><td>0.0250000000</td><td>2.500000e-02</td><td>0.0250000000</td><td>0.0250000000</td><td>2.500000e-02</td><td>0.0250000000</td><td>0.0250000000</td><td>0.0250000000</td></tr>\n",
              "\t<tr><td>d-Limonene            </td><td>          NA</td><td>         NA</td><td>          NA</td><td>        NA</td><td>         NA</td><td>          NA</td><td>          NA</td><td>          NA</td><td>          NA</td><td>⋯</td><td>          NA</td><td>          NA</td><td>          NA</td><td>          NA</td><td>          NA</td><td>          NA</td><td>          NA</td><td>          NA</td><td>          NA</td><td>          NA</td></tr>\n",
              "\t<tr><td>Ethyl Acetate         </td><td>0.000000e+00</td><td>0.144200000</td><td>0.000000e+00</td><td>0.15745000</td><td>0.045900000</td><td>0.000000e+00</td><td>7.750000e-04</td><td>0.0027500000</td><td>0.000000e+00</td><td>⋯</td><td>0.0016000000</td><td>0.0000000000</td><td>0.0000000000</td><td>0.000000e+00</td><td>0.0000000000</td><td>0.0000000000</td><td>0.000000e+00</td><td>0.0000000000</td><td>0.0002250000</td><td>0.0001500000</td></tr>\n",
              "\t<tr><td>Ethylbenzene          </td><td>2.272727e-05</td><td>0.006909091</td><td>2.272727e-05</td><td>0.01209091</td><td>0.004295455</td><td>3.181818e-04</td><td>2.727273e-04</td><td>0.0003181818</td><td>2.727273e-04</td><td>⋯</td><td>0.0002045455</td><td>0.0001590909</td><td>0.0001363636</td><td>1.590909e-04</td><td>0.0002272727</td><td>0.0002045455</td><td>1.136364e-04</td><td>0.0001363636</td><td>0.0001590909</td><td>0.0001363636</td></tr>\n",
              "\t<tr><td>Heptane               </td><td>          NA</td><td>         NA</td><td>          NA</td><td>        NA</td><td>         NA</td><td>          NA</td><td>          NA</td><td>          NA</td><td>          NA</td><td>⋯</td><td>          NA</td><td>          NA</td><td>          NA</td><td>          NA</td><td>          NA</td><td>          NA</td><td>          NA</td><td>          NA</td><td>          NA</td><td>          NA</td></tr>\n",
              "\t<tr><td>Isopropylbenzene      </td><td>          NA</td><td>         NA</td><td>          NA</td><td>        NA</td><td>         NA</td><td>          NA</td><td>          NA</td><td>          NA</td><td>          NA</td><td>⋯</td><td>          NA</td><td>          NA</td><td>          NA</td><td>          NA</td><td>          NA</td><td>          NA</td><td>          NA</td><td>          NA</td><td>          NA</td><td>          NA</td></tr>\n",
              "\t<tr><td>m,p-Xylene            </td><td>1.052632e-04</td><td>0.051000000</td><td>1.578947e-04</td><td>0.07326316</td><td>0.024894737</td><td>3.315789e-03</td><td>3.105263e-03</td><td>0.0034736842</td><td>3.315789e-03</td><td>⋯</td><td>0.0022105263</td><td>0.0018421053</td><td>0.0016842105</td><td>2.263158e-03</td><td>0.0027368421</td><td>0.0026842105</td><td>1.631579e-03</td><td>0.0016842105</td><td>0.0019473684</td><td>0.0018421053</td></tr>\n",
              "\t<tr><td>n-Decane              </td><td>          NA</td><td>         NA</td><td>          NA</td><td>        NA</td><td>         NA</td><td>          NA</td><td>          NA</td><td>          NA</td><td>          NA</td><td>⋯</td><td>          NA</td><td>          NA</td><td>          NA</td><td>          NA</td><td>          NA</td><td>          NA</td><td>          NA</td><td>          NA</td><td>          NA</td><td>          NA</td></tr>\n",
              "\t<tr><td>n-Dodecane            </td><td>          NA</td><td>         NA</td><td>          NA</td><td>        NA</td><td>         NA</td><td>          NA</td><td>          NA</td><td>          NA</td><td>          NA</td><td>⋯</td><td>          NA</td><td>          NA</td><td>          NA</td><td>          NA</td><td>          NA</td><td>          NA</td><td>          NA</td><td>          NA</td><td>          NA</td><td>          NA</td></tr>\n",
              "\t<tr><td>n-Nonane              </td><td>          NA</td><td>         NA</td><td>          NA</td><td>        NA</td><td>         NA</td><td>          NA</td><td>          NA</td><td>          NA</td><td>          NA</td><td>⋯</td><td>          NA</td><td>          NA</td><td>          NA</td><td>          NA</td><td>          NA</td><td>          NA</td><td>          NA</td><td>          NA</td><td>          NA</td><td>          NA</td></tr>\n",
              "\t<tr><td>n-Octane              </td><td>          NA</td><td>         NA</td><td>          NA</td><td>        NA</td><td>         NA</td><td>          NA</td><td>          NA</td><td>          NA</td><td>          NA</td><td>⋯</td><td>          NA</td><td>          NA</td><td>          NA</td><td>          NA</td><td>          NA</td><td>          NA</td><td>          NA</td><td>          NA</td><td>          NA</td><td>          NA</td></tr>\n",
              "\t<tr><td>n-Pentadecane         </td><td>          NA</td><td>         NA</td><td>          NA</td><td>        NA</td><td>         NA</td><td>          NA</td><td>          NA</td><td>          NA</td><td>          NA</td><td>⋯</td><td>          NA</td><td>          NA</td><td>          NA</td><td>          NA</td><td>          NA</td><td>          NA</td><td>          NA</td><td>          NA</td><td>          NA</td><td>          NA</td></tr>\n",
              "\t<tr><td>n-Tetradecane         </td><td>          NA</td><td>         NA</td><td>          NA</td><td>        NA</td><td>         NA</td><td>          NA</td><td>          NA</td><td>          NA</td><td>          NA</td><td>⋯</td><td>          NA</td><td>          NA</td><td>          NA</td><td>          NA</td><td>          NA</td><td>          NA</td><td>          NA</td><td>          NA</td><td>          NA</td><td>          NA</td></tr>\n",
              "\t<tr><td>n-Tridecane           </td><td>          NA</td><td>         NA</td><td>          NA</td><td>        NA</td><td>         NA</td><td>          NA</td><td>          NA</td><td>          NA</td><td>          NA</td><td>⋯</td><td>          NA</td><td>          NA</td><td>          NA</td><td>          NA</td><td>          NA</td><td>          NA</td><td>          NA</td><td>          NA</td><td>          NA</td><td>          NA</td></tr>\n",
              "\t<tr><td>n-Undecane            </td><td>          NA</td><td>         NA</td><td>          NA</td><td>        NA</td><td>         NA</td><td>          NA</td><td>          NA</td><td>          NA</td><td>          NA</td><td>⋯</td><td>          NA</td><td>          NA</td><td>          NA</td><td>          NA</td><td>          NA</td><td>          NA</td><td>          NA</td><td>          NA</td><td>          NA</td><td>          NA</td></tr>\n",
              "\t<tr><td>Naphthalene           </td><td>4.210526e-03</td><td>0.018947368</td><td>3.157895e-03</td><td>0.02631579</td><td>0.014736842</td><td>2.105263e-03</td><td>2.105263e-03</td><td>0.0042105263</td><td>2.105263e-03</td><td>⋯</td><td>0.0073684211</td><td>0.0042105263</td><td>0.0031578947</td><td>3.157895e-03</td><td>0.0031578947</td><td>0.0031578947</td><td>2.105263e-03</td><td>0.0021052632</td><td>0.0021052632</td><td>0.0031578947</td></tr>\n",
              "\t<tr><td>o-Xylene              </td><td>          NA</td><td>         NA</td><td>          NA</td><td>        NA</td><td>         NA</td><td>          NA</td><td>          NA</td><td>          NA</td><td>          NA</td><td>⋯</td><td>          NA</td><td>          NA</td><td>          NA</td><td>          NA</td><td>          NA</td><td>          NA</td><td>          NA</td><td>          NA</td><td>          NA</td><td>          NA</td></tr>\n",
              "\t<tr><td>p-Isopropyltoluene    </td><td>          NA</td><td>         NA</td><td>          NA</td><td>        NA</td><td>         NA</td><td>          NA</td><td>          NA</td><td>          NA</td><td>          NA</td><td>⋯</td><td>          NA</td><td>          NA</td><td>          NA</td><td>          NA</td><td>          NA</td><td>          NA</td><td>          NA</td><td>          NA</td><td>          NA</td><td>          NA</td></tr>\n",
              "\t<tr><td>Propylbenzene         </td><td>          NA</td><td>         NA</td><td>          NA</td><td>        NA</td><td>         NA</td><td>          NA</td><td>          NA</td><td>          NA</td><td>          NA</td><td>⋯</td><td>          NA</td><td>          NA</td><td>          NA</td><td>          NA</td><td>          NA</td><td>          NA</td><td>          NA</td><td>          NA</td><td>          NA</td><td>          NA</td></tr>\n",
              "\t<tr><td>Styrene               </td><td>1.818182e-04</td><td>0.018000000</td><td>1.818182e-04</td><td>0.04981818</td><td>0.019636364</td><td>9.090909e-05</td><td>9.090909e-05</td><td>0.0001818182</td><td>9.090909e-05</td><td>⋯</td><td>0.0003636364</td><td>0.0001818182</td><td>0.0001818182</td><td>9.090909e-05</td><td>0.0001818182</td><td>0.0001818182</td><td>9.090909e-05</td><td>0.0004545455</td><td>0.0003636364</td><td>0.0002727273</td></tr>\n",
              "\t<tr><td>Tetrachloroethylene   </td><td>          NA</td><td>         NA</td><td>          NA</td><td>        NA</td><td>         NA</td><td>          NA</td><td>          NA</td><td>          NA</td><td>          NA</td><td>⋯</td><td>          NA</td><td>          NA</td><td>          NA</td><td>          NA</td><td>          NA</td><td>          NA</td><td>          NA</td><td>          NA</td><td>          NA</td><td>          NA</td></tr>\n",
              "\t<tr><td>Tetrahydrofuran       </td><td>          NA</td><td>         NA</td><td>          NA</td><td>        NA</td><td>         NA</td><td>          NA</td><td>          NA</td><td>          NA</td><td>          NA</td><td>⋯</td><td>          NA</td><td>          NA</td><td>          NA</td><td>          NA</td><td>          NA</td><td>          NA</td><td>          NA</td><td>          NA</td><td>          NA</td><td>          NA</td></tr>\n",
              "\t<tr><td>Toluene               </td><td>2.727273e-05</td><td>0.039890909</td><td>6.363636e-05</td><td>0.06617273</td><td>0.015800000</td><td>7.181818e-04</td><td>7.000000e-04</td><td>0.0008545455</td><td>7.818182e-04</td><td>⋯</td><td>0.0008272727</td><td>0.0006181818</td><td>0.0005636364</td><td>7.272727e-04</td><td>0.0025636364</td><td>0.0027000000</td><td>5.090909e-04</td><td>0.0005363636</td><td>0.0006363636</td><td>0.0005909091</td></tr>\n",
              "</tbody>\n",
              "</table>\n"
            ]
          },
          "metadata": {
            "tags": []
          }
        }
      ]
    },
    {
      "cell_type": "code",
      "metadata": {
        "id": "qALdmTInG5LL",
        "colab_type": "code",
        "colab": {
          "base_uri": "https://localhost:8080/",
          "height": 750
        },
        "outputId": "5a73a49a-6f44-4e16-c091-f0fc7a99bb95"
      },
      "source": [
        "over_thresh %>% select_if(~sum(!is.na(.)) > 0)\n"
      ],
      "execution_count": null,
      "outputs": [
        {
          "output_type": "display_data",
          "data": {
            "text/plain": [
              "   Name                   TXBVOC5b TXBVOC2a TXBVOC5a TXA.1.A   TXA.1.B  \n",
              "1  1,2-Dichloroethane        NA      NA           NA        NA        NA\n",
              "2  1,2,3-Trimethylbenzene    NA      NA           NA        NA        NA\n",
              "3  1,2,4-Trimethylbenzene    NA      NA           NA        NA        NA\n",
              "4  1,3,5-Trimethylbenzene    NA      NA           NA        NA        NA\n",
              "5  1,4-Dichlorobenzene       NA      NA           NA        NA        NA\n",
              "6  alpha-Pinene              NA      NA           NA        NA        NA\n",
              "7  Benzene                1.650    2.45     1.314286 0.7142857 0.6285714\n",
              "8  Carbontetrachloride    0.525    0.66     0.525000        NA        NA\n",
              "9  Chlorobenzene             NA      NA           NA        NA        NA\n",
              "10 Chloroform                NA      NA           NA        NA        NA\n",
              "11 d-Limonene                NA      NA           NA        NA        NA\n",
              "12 Ethyl Acetate             NA      NA           NA        NA        NA\n",
              "13 Ethylbenzene              NA      NA           NA        NA        NA\n",
              "14 Heptane                   NA      NA           NA        NA        NA\n",
              "15 Isopropylbenzene          NA      NA           NA        NA        NA\n",
              "16 m,p-Xylene                NA      NA           NA        NA        NA\n",
              "17 n-Decane                  NA      NA           NA        NA        NA\n",
              "18 n-Dodecane                NA      NA           NA        NA        NA\n",
              "19 n-Nonane                  NA      NA           NA        NA        NA\n",
              "20 n-Octane                  NA      NA           NA        NA        NA\n",
              "21 n-Pentadecane             NA      NA           NA        NA        NA\n",
              "22 n-Tetradecane             NA      NA           NA        NA        NA\n",
              "23 n-Tridecane               NA      NA           NA        NA        NA\n",
              "24 n-Undecane                NA      NA           NA        NA        NA\n",
              "25 Naphthalene               NA      NA           NA        NA        NA\n",
              "26 o-Xylene                  NA      NA           NA        NA        NA\n",
              "27 p-Isopropyltoluene        NA      NA           NA        NA        NA\n",
              "28 Propylbenzene             NA      NA           NA        NA        NA\n",
              "29 Styrene                   NA      NA           NA        NA        NA\n",
              "30 Tetrachloroethylene       NA      NA           NA        NA        NA\n",
              "31 Tetrahydrofuran           NA      NA           NA        NA        NA\n",
              "32 Toluene                   NA      NA           NA        NA        NA\n",
              "   TXA.2.A   TXA.3.A   TXC.4.A   TXC.5.A   ⋯ TXFB3     TXC.6.C TXC.5.C  \n",
              "1         NA        NA        NA        NA ⋯        NA  NA            NA\n",
              "2         NA        NA        NA        NA ⋯        NA  NA            NA\n",
              "3         NA        NA        NA        NA ⋯        NA  NA            NA\n",
              "4         NA        NA        NA        NA ⋯        NA  NA            NA\n",
              "5         NA        NA        NA        NA ⋯        NA  NA            NA\n",
              "6         NA        NA        NA        NA ⋯        NA  NA            NA\n",
              "7  0.7428571 0.6857143 0.6857143 0.5928571 ⋯ 0.8857143 0.5     0.5071429\n",
              "8         NA        NA        NA        NA ⋯        NA  NA            NA\n",
              "9         NA        NA        NA        NA ⋯        NA  NA            NA\n",
              "10        NA        NA        NA        NA ⋯        NA  NA            NA\n",
              "11        NA        NA        NA        NA ⋯        NA  NA            NA\n",
              "12        NA        NA        NA        NA ⋯        NA  NA            NA\n",
              "13        NA        NA        NA        NA ⋯        NA  NA            NA\n",
              "14        NA        NA        NA        NA ⋯        NA  NA            NA\n",
              "15        NA        NA        NA        NA ⋯        NA  NA            NA\n",
              "16        NA        NA        NA        NA ⋯        NA  NA            NA\n",
              "17        NA        NA        NA        NA ⋯        NA  NA            NA\n",
              "18        NA        NA        NA        NA ⋯        NA  NA            NA\n",
              "19        NA        NA        NA        NA ⋯        NA  NA            NA\n",
              "20        NA        NA        NA        NA ⋯        NA  NA            NA\n",
              "21        NA        NA        NA        NA ⋯        NA  NA            NA\n",
              "22        NA        NA        NA        NA ⋯        NA  NA            NA\n",
              "23        NA        NA        NA        NA ⋯        NA  NA            NA\n",
              "24        NA        NA        NA        NA ⋯        NA  NA            NA\n",
              "25        NA        NA        NA        NA ⋯        NA  NA            NA\n",
              "26        NA        NA        NA        NA ⋯        NA  NA            NA\n",
              "27        NA        NA        NA        NA ⋯        NA  NA            NA\n",
              "28        NA        NA        NA        NA ⋯        NA  NA            NA\n",
              "29        NA        NA        NA        NA ⋯        NA  NA            NA\n",
              "30        NA        NA        NA        NA ⋯        NA  NA            NA\n",
              "31        NA        NA        NA        NA ⋯        NA  NA            NA\n",
              "32        NA        NA        NA        NA ⋯        NA  NA            NA\n",
              "   TXD.9.A   TXD.10.A  TXB.7.C   TXB.8.C   TXA.1.D   TXA.2.C TXA.3.C  \n",
              "1         NA        NA        NA        NA        NA  NA            NA\n",
              "2         NA        NA        NA        NA        NA  NA            NA\n",
              "3         NA        NA        NA        NA        NA  NA            NA\n",
              "4         NA        NA        NA        NA        NA  NA            NA\n",
              "5         NA        NA        NA        NA        NA  NA            NA\n",
              "6         NA        NA        NA        NA        NA  NA            NA\n",
              "7  0.5214286 0.5714286 0.9142857 0.6071429 0.5285714 0.5     0.6071429\n",
              "8         NA        NA        NA        NA        NA  NA            NA\n",
              "9         NA        NA        NA        NA        NA  NA            NA\n",
              "10        NA        NA        NA        NA        NA  NA            NA\n",
              "11        NA        NA        NA        NA        NA  NA            NA\n",
              "12        NA        NA        NA        NA        NA  NA            NA\n",
              "13        NA        NA        NA        NA        NA  NA            NA\n",
              "14        NA        NA        NA        NA        NA  NA            NA\n",
              "15        NA        NA        NA        NA        NA  NA            NA\n",
              "16        NA        NA        NA        NA        NA  NA            NA\n",
              "17        NA        NA        NA        NA        NA  NA            NA\n",
              "18        NA        NA        NA        NA        NA  NA            NA\n",
              "19        NA        NA        NA        NA        NA  NA            NA\n",
              "20        NA        NA        NA        NA        NA  NA            NA\n",
              "21        NA        NA        NA        NA        NA  NA            NA\n",
              "22        NA        NA        NA        NA        NA  NA            NA\n",
              "23        NA        NA        NA        NA        NA  NA            NA\n",
              "24        NA        NA        NA        NA        NA  NA            NA\n",
              "25        NA        NA        NA        NA        NA  NA            NA\n",
              "26        NA        NA        NA        NA        NA  NA            NA\n",
              "27        NA        NA        NA        NA        NA  NA            NA\n",
              "28        NA        NA        NA        NA        NA  NA            NA\n",
              "29        NA        NA        NA        NA        NA  NA            NA\n",
              "30        NA        NA        NA        NA        NA  NA            NA\n",
              "31        NA        NA        NA        NA        NA  NA            NA\n",
              "32        NA        NA        NA        NA        NA  NA            NA"
            ],
            "text/latex": "A data.frame: 32 × 23\n\\begin{tabular}{lllllllllllllllllllll}\n Name & TXBVOC5b & TXBVOC2a & TXBVOC5a & TXA.1.A & TXA.1.B & TXA.2.A & TXA.3.A & TXC.4.A & TXC.5.A & ⋯ & TXFB3 & TXC.6.C & TXC.5.C & TXD.9.A & TXD.10.A & TXB.7.C & TXB.8.C & TXA.1.D & TXA.2.C & TXA.3.C\\\\\n <chr> & <dbl> & <dbl> & <dbl> & <dbl> & <dbl> & <dbl> & <dbl> & <dbl> & <dbl> & ⋯ & <dbl> & <dbl> & <dbl> & <dbl> & <dbl> & <dbl> & <dbl> & <dbl> & <dbl> & <dbl>\\\\\n\\hline\n\t 1,2-Dichloroethane     &    NA &   NA &       NA &        NA &        NA &        NA &        NA &        NA &        NA & ⋯ &        NA &  NA &        NA &        NA &        NA &        NA &        NA &        NA &  NA &        NA\\\\\n\t 1,2,3-Trimethylbenzene &    NA &   NA &       NA &        NA &        NA &        NA &        NA &        NA &        NA & ⋯ &        NA &  NA &        NA &        NA &        NA &        NA &        NA &        NA &  NA &        NA\\\\\n\t 1,2,4-Trimethylbenzene &    NA &   NA &       NA &        NA &        NA &        NA &        NA &        NA &        NA & ⋯ &        NA &  NA &        NA &        NA &        NA &        NA &        NA &        NA &  NA &        NA\\\\\n\t 1,3,5-Trimethylbenzene &    NA &   NA &       NA &        NA &        NA &        NA &        NA &        NA &        NA & ⋯ &        NA &  NA &        NA &        NA &        NA &        NA &        NA &        NA &  NA &        NA\\\\\n\t 1,4-Dichlorobenzene    &    NA &   NA &       NA &        NA &        NA &        NA &        NA &        NA &        NA & ⋯ &        NA &  NA &        NA &        NA &        NA &        NA &        NA &        NA &  NA &        NA\\\\\n\t alpha-Pinene           &    NA &   NA &       NA &        NA &        NA &        NA &        NA &        NA &        NA & ⋯ &        NA &  NA &        NA &        NA &        NA &        NA &        NA &        NA &  NA &        NA\\\\\n\t Benzene                & 1.650 & 2.45 & 1.314286 & 0.7142857 & 0.6285714 & 0.7428571 & 0.6857143 & 0.6857143 & 0.5928571 & ⋯ & 0.8857143 & 0.5 & 0.5071429 & 0.5214286 & 0.5714286 & 0.9142857 & 0.6071429 & 0.5285714 & 0.5 & 0.6071429\\\\\n\t Carbontetrachloride    & 0.525 & 0.66 & 0.525000 &        NA &        NA &        NA &        NA &        NA &        NA & ⋯ &        NA &  NA &        NA &        NA &        NA &        NA &        NA &        NA &  NA &        NA\\\\\n\t Chlorobenzene          &    NA &   NA &       NA &        NA &        NA &        NA &        NA &        NA &        NA & ⋯ &        NA &  NA &        NA &        NA &        NA &        NA &        NA &        NA &  NA &        NA\\\\\n\t Chloroform             &    NA &   NA &       NA &        NA &        NA &        NA &        NA &        NA &        NA & ⋯ &        NA &  NA &        NA &        NA &        NA &        NA &        NA &        NA &  NA &        NA\\\\\n\t d-Limonene             &    NA &   NA &       NA &        NA &        NA &        NA &        NA &        NA &        NA & ⋯ &        NA &  NA &        NA &        NA &        NA &        NA &        NA &        NA &  NA &        NA\\\\\n\t Ethyl Acetate          &    NA &   NA &       NA &        NA &        NA &        NA &        NA &        NA &        NA & ⋯ &        NA &  NA &        NA &        NA &        NA &        NA &        NA &        NA &  NA &        NA\\\\\n\t Ethylbenzene           &    NA &   NA &       NA &        NA &        NA &        NA &        NA &        NA &        NA & ⋯ &        NA &  NA &        NA &        NA &        NA &        NA &        NA &        NA &  NA &        NA\\\\\n\t Heptane                &    NA &   NA &       NA &        NA &        NA &        NA &        NA &        NA &        NA & ⋯ &        NA &  NA &        NA &        NA &        NA &        NA &        NA &        NA &  NA &        NA\\\\\n\t Isopropylbenzene       &    NA &   NA &       NA &        NA &        NA &        NA &        NA &        NA &        NA & ⋯ &        NA &  NA &        NA &        NA &        NA &        NA &        NA &        NA &  NA &        NA\\\\\n\t m,p-Xylene             &    NA &   NA &       NA &        NA &        NA &        NA &        NA &        NA &        NA & ⋯ &        NA &  NA &        NA &        NA &        NA &        NA &        NA &        NA &  NA &        NA\\\\\n\t n-Decane               &    NA &   NA &       NA &        NA &        NA &        NA &        NA &        NA &        NA & ⋯ &        NA &  NA &        NA &        NA &        NA &        NA &        NA &        NA &  NA &        NA\\\\\n\t n-Dodecane             &    NA &   NA &       NA &        NA &        NA &        NA &        NA &        NA &        NA & ⋯ &        NA &  NA &        NA &        NA &        NA &        NA &        NA &        NA &  NA &        NA\\\\\n\t n-Nonane               &    NA &   NA &       NA &        NA &        NA &        NA &        NA &        NA &        NA & ⋯ &        NA &  NA &        NA &        NA &        NA &        NA &        NA &        NA &  NA &        NA\\\\\n\t n-Octane               &    NA &   NA &       NA &        NA &        NA &        NA &        NA &        NA &        NA & ⋯ &        NA &  NA &        NA &        NA &        NA &        NA &        NA &        NA &  NA &        NA\\\\\n\t n-Pentadecane          &    NA &   NA &       NA &        NA &        NA &        NA &        NA &        NA &        NA & ⋯ &        NA &  NA &        NA &        NA &        NA &        NA &        NA &        NA &  NA &        NA\\\\\n\t n-Tetradecane          &    NA &   NA &       NA &        NA &        NA &        NA &        NA &        NA &        NA & ⋯ &        NA &  NA &        NA &        NA &        NA &        NA &        NA &        NA &  NA &        NA\\\\\n\t n-Tridecane            &    NA &   NA &       NA &        NA &        NA &        NA &        NA &        NA &        NA & ⋯ &        NA &  NA &        NA &        NA &        NA &        NA &        NA &        NA &  NA &        NA\\\\\n\t n-Undecane             &    NA &   NA &       NA &        NA &        NA &        NA &        NA &        NA &        NA & ⋯ &        NA &  NA &        NA &        NA &        NA &        NA &        NA &        NA &  NA &        NA\\\\\n\t Naphthalene            &    NA &   NA &       NA &        NA &        NA &        NA &        NA &        NA &        NA & ⋯ &        NA &  NA &        NA &        NA &        NA &        NA &        NA &        NA &  NA &        NA\\\\\n\t o-Xylene               &    NA &   NA &       NA &        NA &        NA &        NA &        NA &        NA &        NA & ⋯ &        NA &  NA &        NA &        NA &        NA &        NA &        NA &        NA &  NA &        NA\\\\\n\t p-Isopropyltoluene     &    NA &   NA &       NA &        NA &        NA &        NA &        NA &        NA &        NA & ⋯ &        NA &  NA &        NA &        NA &        NA &        NA &        NA &        NA &  NA &        NA\\\\\n\t Propylbenzene          &    NA &   NA &       NA &        NA &        NA &        NA &        NA &        NA &        NA & ⋯ &        NA &  NA &        NA &        NA &        NA &        NA &        NA &        NA &  NA &        NA\\\\\n\t Styrene                &    NA &   NA &       NA &        NA &        NA &        NA &        NA &        NA &        NA & ⋯ &        NA &  NA &        NA &        NA &        NA &        NA &        NA &        NA &  NA &        NA\\\\\n\t Tetrachloroethylene    &    NA &   NA &       NA &        NA &        NA &        NA &        NA &        NA &        NA & ⋯ &        NA &  NA &        NA &        NA &        NA &        NA &        NA &        NA &  NA &        NA\\\\\n\t Tetrahydrofuran        &    NA &   NA &       NA &        NA &        NA &        NA &        NA &        NA &        NA & ⋯ &        NA &  NA &        NA &        NA &        NA &        NA &        NA &        NA &  NA &        NA\\\\\n\t Toluene                &    NA &   NA &       NA &        NA &        NA &        NA &        NA &        NA &        NA & ⋯ &        NA &  NA &        NA &        NA &        NA &        NA &        NA &        NA &  NA &        NA\\\\\n\\end{tabular}\n",
            "text/markdown": "\nA data.frame: 32 × 23\n\n| Name &lt;chr&gt; | TXBVOC5b &lt;dbl&gt; | TXBVOC2a &lt;dbl&gt; | TXBVOC5a &lt;dbl&gt; | TXA.1.A &lt;dbl&gt; | TXA.1.B &lt;dbl&gt; | TXA.2.A &lt;dbl&gt; | TXA.3.A &lt;dbl&gt; | TXC.4.A &lt;dbl&gt; | TXC.5.A &lt;dbl&gt; | ⋯ ⋯ | TXFB3 &lt;dbl&gt; | TXC.6.C &lt;dbl&gt; | TXC.5.C &lt;dbl&gt; | TXD.9.A &lt;dbl&gt; | TXD.10.A &lt;dbl&gt; | TXB.7.C &lt;dbl&gt; | TXB.8.C &lt;dbl&gt; | TXA.1.D &lt;dbl&gt; | TXA.2.C &lt;dbl&gt; | TXA.3.C &lt;dbl&gt; |\n|---|---|---|---|---|---|---|---|---|---|---|---|---|---|---|---|---|---|---|---|---|\n| 1,2-Dichloroethane     |    NA |   NA |       NA |        NA |        NA |        NA |        NA |        NA |        NA | ⋯ |        NA |  NA |        NA |        NA |        NA |        NA |        NA |        NA |  NA |        NA |\n| 1,2,3-Trimethylbenzene |    NA |   NA |       NA |        NA |        NA |        NA |        NA |        NA |        NA | ⋯ |        NA |  NA |        NA |        NA |        NA |        NA |        NA |        NA |  NA |        NA |\n| 1,2,4-Trimethylbenzene |    NA |   NA |       NA |        NA |        NA |        NA |        NA |        NA |        NA | ⋯ |        NA |  NA |        NA |        NA |        NA |        NA |        NA |        NA |  NA |        NA |\n| 1,3,5-Trimethylbenzene |    NA |   NA |       NA |        NA |        NA |        NA |        NA |        NA |        NA | ⋯ |        NA |  NA |        NA |        NA |        NA |        NA |        NA |        NA |  NA |        NA |\n| 1,4-Dichlorobenzene    |    NA |   NA |       NA |        NA |        NA |        NA |        NA |        NA |        NA | ⋯ |        NA |  NA |        NA |        NA |        NA |        NA |        NA |        NA |  NA |        NA |\n| alpha-Pinene           |    NA |   NA |       NA |        NA |        NA |        NA |        NA |        NA |        NA | ⋯ |        NA |  NA |        NA |        NA |        NA |        NA |        NA |        NA |  NA |        NA |\n| Benzene                | 1.650 | 2.45 | 1.314286 | 0.7142857 | 0.6285714 | 0.7428571 | 0.6857143 | 0.6857143 | 0.5928571 | ⋯ | 0.8857143 | 0.5 | 0.5071429 | 0.5214286 | 0.5714286 | 0.9142857 | 0.6071429 | 0.5285714 | 0.5 | 0.6071429 |\n| Carbontetrachloride    | 0.525 | 0.66 | 0.525000 |        NA |        NA |        NA |        NA |        NA |        NA | ⋯ |        NA |  NA |        NA |        NA |        NA |        NA |        NA |        NA |  NA |        NA |\n| Chlorobenzene          |    NA |   NA |       NA |        NA |        NA |        NA |        NA |        NA |        NA | ⋯ |        NA |  NA |        NA |        NA |        NA |        NA |        NA |        NA |  NA |        NA |\n| Chloroform             |    NA |   NA |       NA |        NA |        NA |        NA |        NA |        NA |        NA | ⋯ |        NA |  NA |        NA |        NA |        NA |        NA |        NA |        NA |  NA |        NA |\n| d-Limonene             |    NA |   NA |       NA |        NA |        NA |        NA |        NA |        NA |        NA | ⋯ |        NA |  NA |        NA |        NA |        NA |        NA |        NA |        NA |  NA |        NA |\n| Ethyl Acetate          |    NA |   NA |       NA |        NA |        NA |        NA |        NA |        NA |        NA | ⋯ |        NA |  NA |        NA |        NA |        NA |        NA |        NA |        NA |  NA |        NA |\n| Ethylbenzene           |    NA |   NA |       NA |        NA |        NA |        NA |        NA |        NA |        NA | ⋯ |        NA |  NA |        NA |        NA |        NA |        NA |        NA |        NA |  NA |        NA |\n| Heptane                |    NA |   NA |       NA |        NA |        NA |        NA |        NA |        NA |        NA | ⋯ |        NA |  NA |        NA |        NA |        NA |        NA |        NA |        NA |  NA |        NA |\n| Isopropylbenzene       |    NA |   NA |       NA |        NA |        NA |        NA |        NA |        NA |        NA | ⋯ |        NA |  NA |        NA |        NA |        NA |        NA |        NA |        NA |  NA |        NA |\n| m,p-Xylene             |    NA |   NA |       NA |        NA |        NA |        NA |        NA |        NA |        NA | ⋯ |        NA |  NA |        NA |        NA |        NA |        NA |        NA |        NA |  NA |        NA |\n| n-Decane               |    NA |   NA |       NA |        NA |        NA |        NA |        NA |        NA |        NA | ⋯ |        NA |  NA |        NA |        NA |        NA |        NA |        NA |        NA |  NA |        NA |\n| n-Dodecane             |    NA |   NA |       NA |        NA |        NA |        NA |        NA |        NA |        NA | ⋯ |        NA |  NA |        NA |        NA |        NA |        NA |        NA |        NA |  NA |        NA |\n| n-Nonane               |    NA |   NA |       NA |        NA |        NA |        NA |        NA |        NA |        NA | ⋯ |        NA |  NA |        NA |        NA |        NA |        NA |        NA |        NA |  NA |        NA |\n| n-Octane               |    NA |   NA |       NA |        NA |        NA |        NA |        NA |        NA |        NA | ⋯ |        NA |  NA |        NA |        NA |        NA |        NA |        NA |        NA |  NA |        NA |\n| n-Pentadecane          |    NA |   NA |       NA |        NA |        NA |        NA |        NA |        NA |        NA | ⋯ |        NA |  NA |        NA |        NA |        NA |        NA |        NA |        NA |  NA |        NA |\n| n-Tetradecane          |    NA |   NA |       NA |        NA |        NA |        NA |        NA |        NA |        NA | ⋯ |        NA |  NA |        NA |        NA |        NA |        NA |        NA |        NA |  NA |        NA |\n| n-Tridecane            |    NA |   NA |       NA |        NA |        NA |        NA |        NA |        NA |        NA | ⋯ |        NA |  NA |        NA |        NA |        NA |        NA |        NA |        NA |  NA |        NA |\n| n-Undecane             |    NA |   NA |       NA |        NA |        NA |        NA |        NA |        NA |        NA | ⋯ |        NA |  NA |        NA |        NA |        NA |        NA |        NA |        NA |  NA |        NA |\n| Naphthalene            |    NA |   NA |       NA |        NA |        NA |        NA |        NA |        NA |        NA | ⋯ |        NA |  NA |        NA |        NA |        NA |        NA |        NA |        NA |  NA |        NA |\n| o-Xylene               |    NA |   NA |       NA |        NA |        NA |        NA |        NA |        NA |        NA | ⋯ |        NA |  NA |        NA |        NA |        NA |        NA |        NA |        NA |  NA |        NA |\n| p-Isopropyltoluene     |    NA |   NA |       NA |        NA |        NA |        NA |        NA |        NA |        NA | ⋯ |        NA |  NA |        NA |        NA |        NA |        NA |        NA |        NA |  NA |        NA |\n| Propylbenzene          |    NA |   NA |       NA |        NA |        NA |        NA |        NA |        NA |        NA | ⋯ |        NA |  NA |        NA |        NA |        NA |        NA |        NA |        NA |  NA |        NA |\n| Styrene                |    NA |   NA |       NA |        NA |        NA |        NA |        NA |        NA |        NA | ⋯ |        NA |  NA |        NA |        NA |        NA |        NA |        NA |        NA |  NA |        NA |\n| Tetrachloroethylene    |    NA |   NA |       NA |        NA |        NA |        NA |        NA |        NA |        NA | ⋯ |        NA |  NA |        NA |        NA |        NA |        NA |        NA |        NA |  NA |        NA |\n| Tetrahydrofuran        |    NA |   NA |       NA |        NA |        NA |        NA |        NA |        NA |        NA | ⋯ |        NA |  NA |        NA |        NA |        NA |        NA |        NA |        NA |  NA |        NA |\n| Toluene                |    NA |   NA |       NA |        NA |        NA |        NA |        NA |        NA |        NA | ⋯ |        NA |  NA |        NA |        NA |        NA |        NA |        NA |        NA |  NA |        NA |\n\n",
            "text/html": [
              "<table>\n",
              "<caption>A data.frame: 32 × 23</caption>\n",
              "<thead>\n",
              "\t<tr><th scope=col>Name</th><th scope=col>TXBVOC5b</th><th scope=col>TXBVOC2a</th><th scope=col>TXBVOC5a</th><th scope=col>TXA.1.A</th><th scope=col>TXA.1.B</th><th scope=col>TXA.2.A</th><th scope=col>TXA.3.A</th><th scope=col>TXC.4.A</th><th scope=col>TXC.5.A</th><th scope=col>⋯</th><th scope=col>TXFB3</th><th scope=col>TXC.6.C</th><th scope=col>TXC.5.C</th><th scope=col>TXD.9.A</th><th scope=col>TXD.10.A</th><th scope=col>TXB.7.C</th><th scope=col>TXB.8.C</th><th scope=col>TXA.1.D</th><th scope=col>TXA.2.C</th><th scope=col>TXA.3.C</th></tr>\n",
              "\t<tr><th scope=col>&lt;chr&gt;</th><th scope=col>&lt;dbl&gt;</th><th scope=col>&lt;dbl&gt;</th><th scope=col>&lt;dbl&gt;</th><th scope=col>&lt;dbl&gt;</th><th scope=col>&lt;dbl&gt;</th><th scope=col>&lt;dbl&gt;</th><th scope=col>&lt;dbl&gt;</th><th scope=col>&lt;dbl&gt;</th><th scope=col>&lt;dbl&gt;</th><th scope=col>⋯</th><th scope=col>&lt;dbl&gt;</th><th scope=col>&lt;dbl&gt;</th><th scope=col>&lt;dbl&gt;</th><th scope=col>&lt;dbl&gt;</th><th scope=col>&lt;dbl&gt;</th><th scope=col>&lt;dbl&gt;</th><th scope=col>&lt;dbl&gt;</th><th scope=col>&lt;dbl&gt;</th><th scope=col>&lt;dbl&gt;</th><th scope=col>&lt;dbl&gt;</th></tr>\n",
              "</thead>\n",
              "<tbody>\n",
              "\t<tr><td>1,2-Dichloroethane    </td><td>   NA</td><td>  NA</td><td>      NA</td><td>       NA</td><td>       NA</td><td>       NA</td><td>       NA</td><td>       NA</td><td>       NA</td><td>⋯</td><td>       NA</td><td> NA</td><td>       NA</td><td>       NA</td><td>       NA</td><td>       NA</td><td>       NA</td><td>       NA</td><td> NA</td><td>       NA</td></tr>\n",
              "\t<tr><td>1,2,3-Trimethylbenzene</td><td>   NA</td><td>  NA</td><td>      NA</td><td>       NA</td><td>       NA</td><td>       NA</td><td>       NA</td><td>       NA</td><td>       NA</td><td>⋯</td><td>       NA</td><td> NA</td><td>       NA</td><td>       NA</td><td>       NA</td><td>       NA</td><td>       NA</td><td>       NA</td><td> NA</td><td>       NA</td></tr>\n",
              "\t<tr><td>1,2,4-Trimethylbenzene</td><td>   NA</td><td>  NA</td><td>      NA</td><td>       NA</td><td>       NA</td><td>       NA</td><td>       NA</td><td>       NA</td><td>       NA</td><td>⋯</td><td>       NA</td><td> NA</td><td>       NA</td><td>       NA</td><td>       NA</td><td>       NA</td><td>       NA</td><td>       NA</td><td> NA</td><td>       NA</td></tr>\n",
              "\t<tr><td>1,3,5-Trimethylbenzene</td><td>   NA</td><td>  NA</td><td>      NA</td><td>       NA</td><td>       NA</td><td>       NA</td><td>       NA</td><td>       NA</td><td>       NA</td><td>⋯</td><td>       NA</td><td> NA</td><td>       NA</td><td>       NA</td><td>       NA</td><td>       NA</td><td>       NA</td><td>       NA</td><td> NA</td><td>       NA</td></tr>\n",
              "\t<tr><td>1,4-Dichlorobenzene   </td><td>   NA</td><td>  NA</td><td>      NA</td><td>       NA</td><td>       NA</td><td>       NA</td><td>       NA</td><td>       NA</td><td>       NA</td><td>⋯</td><td>       NA</td><td> NA</td><td>       NA</td><td>       NA</td><td>       NA</td><td>       NA</td><td>       NA</td><td>       NA</td><td> NA</td><td>       NA</td></tr>\n",
              "\t<tr><td>alpha-Pinene          </td><td>   NA</td><td>  NA</td><td>      NA</td><td>       NA</td><td>       NA</td><td>       NA</td><td>       NA</td><td>       NA</td><td>       NA</td><td>⋯</td><td>       NA</td><td> NA</td><td>       NA</td><td>       NA</td><td>       NA</td><td>       NA</td><td>       NA</td><td>       NA</td><td> NA</td><td>       NA</td></tr>\n",
              "\t<tr><td>Benzene               </td><td>1.650</td><td>2.45</td><td>1.314286</td><td>0.7142857</td><td>0.6285714</td><td>0.7428571</td><td>0.6857143</td><td>0.6857143</td><td>0.5928571</td><td>⋯</td><td>0.8857143</td><td>0.5</td><td>0.5071429</td><td>0.5214286</td><td>0.5714286</td><td>0.9142857</td><td>0.6071429</td><td>0.5285714</td><td>0.5</td><td>0.6071429</td></tr>\n",
              "\t<tr><td>Carbontetrachloride   </td><td>0.525</td><td>0.66</td><td>0.525000</td><td>       NA</td><td>       NA</td><td>       NA</td><td>       NA</td><td>       NA</td><td>       NA</td><td>⋯</td><td>       NA</td><td> NA</td><td>       NA</td><td>       NA</td><td>       NA</td><td>       NA</td><td>       NA</td><td>       NA</td><td> NA</td><td>       NA</td></tr>\n",
              "\t<tr><td>Chlorobenzene         </td><td>   NA</td><td>  NA</td><td>      NA</td><td>       NA</td><td>       NA</td><td>       NA</td><td>       NA</td><td>       NA</td><td>       NA</td><td>⋯</td><td>       NA</td><td> NA</td><td>       NA</td><td>       NA</td><td>       NA</td><td>       NA</td><td>       NA</td><td>       NA</td><td> NA</td><td>       NA</td></tr>\n",
              "\t<tr><td>Chloroform            </td><td>   NA</td><td>  NA</td><td>      NA</td><td>       NA</td><td>       NA</td><td>       NA</td><td>       NA</td><td>       NA</td><td>       NA</td><td>⋯</td><td>       NA</td><td> NA</td><td>       NA</td><td>       NA</td><td>       NA</td><td>       NA</td><td>       NA</td><td>       NA</td><td> NA</td><td>       NA</td></tr>\n",
              "\t<tr><td>d-Limonene            </td><td>   NA</td><td>  NA</td><td>      NA</td><td>       NA</td><td>       NA</td><td>       NA</td><td>       NA</td><td>       NA</td><td>       NA</td><td>⋯</td><td>       NA</td><td> NA</td><td>       NA</td><td>       NA</td><td>       NA</td><td>       NA</td><td>       NA</td><td>       NA</td><td> NA</td><td>       NA</td></tr>\n",
              "\t<tr><td>Ethyl Acetate         </td><td>   NA</td><td>  NA</td><td>      NA</td><td>       NA</td><td>       NA</td><td>       NA</td><td>       NA</td><td>       NA</td><td>       NA</td><td>⋯</td><td>       NA</td><td> NA</td><td>       NA</td><td>       NA</td><td>       NA</td><td>       NA</td><td>       NA</td><td>       NA</td><td> NA</td><td>       NA</td></tr>\n",
              "\t<tr><td>Ethylbenzene          </td><td>   NA</td><td>  NA</td><td>      NA</td><td>       NA</td><td>       NA</td><td>       NA</td><td>       NA</td><td>       NA</td><td>       NA</td><td>⋯</td><td>       NA</td><td> NA</td><td>       NA</td><td>       NA</td><td>       NA</td><td>       NA</td><td>       NA</td><td>       NA</td><td> NA</td><td>       NA</td></tr>\n",
              "\t<tr><td>Heptane               </td><td>   NA</td><td>  NA</td><td>      NA</td><td>       NA</td><td>       NA</td><td>       NA</td><td>       NA</td><td>       NA</td><td>       NA</td><td>⋯</td><td>       NA</td><td> NA</td><td>       NA</td><td>       NA</td><td>       NA</td><td>       NA</td><td>       NA</td><td>       NA</td><td> NA</td><td>       NA</td></tr>\n",
              "\t<tr><td>Isopropylbenzene      </td><td>   NA</td><td>  NA</td><td>      NA</td><td>       NA</td><td>       NA</td><td>       NA</td><td>       NA</td><td>       NA</td><td>       NA</td><td>⋯</td><td>       NA</td><td> NA</td><td>       NA</td><td>       NA</td><td>       NA</td><td>       NA</td><td>       NA</td><td>       NA</td><td> NA</td><td>       NA</td></tr>\n",
              "\t<tr><td>m,p-Xylene            </td><td>   NA</td><td>  NA</td><td>      NA</td><td>       NA</td><td>       NA</td><td>       NA</td><td>       NA</td><td>       NA</td><td>       NA</td><td>⋯</td><td>       NA</td><td> NA</td><td>       NA</td><td>       NA</td><td>       NA</td><td>       NA</td><td>       NA</td><td>       NA</td><td> NA</td><td>       NA</td></tr>\n",
              "\t<tr><td>n-Decane              </td><td>   NA</td><td>  NA</td><td>      NA</td><td>       NA</td><td>       NA</td><td>       NA</td><td>       NA</td><td>       NA</td><td>       NA</td><td>⋯</td><td>       NA</td><td> NA</td><td>       NA</td><td>       NA</td><td>       NA</td><td>       NA</td><td>       NA</td><td>       NA</td><td> NA</td><td>       NA</td></tr>\n",
              "\t<tr><td>n-Dodecane            </td><td>   NA</td><td>  NA</td><td>      NA</td><td>       NA</td><td>       NA</td><td>       NA</td><td>       NA</td><td>       NA</td><td>       NA</td><td>⋯</td><td>       NA</td><td> NA</td><td>       NA</td><td>       NA</td><td>       NA</td><td>       NA</td><td>       NA</td><td>       NA</td><td> NA</td><td>       NA</td></tr>\n",
              "\t<tr><td>n-Nonane              </td><td>   NA</td><td>  NA</td><td>      NA</td><td>       NA</td><td>       NA</td><td>       NA</td><td>       NA</td><td>       NA</td><td>       NA</td><td>⋯</td><td>       NA</td><td> NA</td><td>       NA</td><td>       NA</td><td>       NA</td><td>       NA</td><td>       NA</td><td>       NA</td><td> NA</td><td>       NA</td></tr>\n",
              "\t<tr><td>n-Octane              </td><td>   NA</td><td>  NA</td><td>      NA</td><td>       NA</td><td>       NA</td><td>       NA</td><td>       NA</td><td>       NA</td><td>       NA</td><td>⋯</td><td>       NA</td><td> NA</td><td>       NA</td><td>       NA</td><td>       NA</td><td>       NA</td><td>       NA</td><td>       NA</td><td> NA</td><td>       NA</td></tr>\n",
              "\t<tr><td>n-Pentadecane         </td><td>   NA</td><td>  NA</td><td>      NA</td><td>       NA</td><td>       NA</td><td>       NA</td><td>       NA</td><td>       NA</td><td>       NA</td><td>⋯</td><td>       NA</td><td> NA</td><td>       NA</td><td>       NA</td><td>       NA</td><td>       NA</td><td>       NA</td><td>       NA</td><td> NA</td><td>       NA</td></tr>\n",
              "\t<tr><td>n-Tetradecane         </td><td>   NA</td><td>  NA</td><td>      NA</td><td>       NA</td><td>       NA</td><td>       NA</td><td>       NA</td><td>       NA</td><td>       NA</td><td>⋯</td><td>       NA</td><td> NA</td><td>       NA</td><td>       NA</td><td>       NA</td><td>       NA</td><td>       NA</td><td>       NA</td><td> NA</td><td>       NA</td></tr>\n",
              "\t<tr><td>n-Tridecane           </td><td>   NA</td><td>  NA</td><td>      NA</td><td>       NA</td><td>       NA</td><td>       NA</td><td>       NA</td><td>       NA</td><td>       NA</td><td>⋯</td><td>       NA</td><td> NA</td><td>       NA</td><td>       NA</td><td>       NA</td><td>       NA</td><td>       NA</td><td>       NA</td><td> NA</td><td>       NA</td></tr>\n",
              "\t<tr><td>n-Undecane            </td><td>   NA</td><td>  NA</td><td>      NA</td><td>       NA</td><td>       NA</td><td>       NA</td><td>       NA</td><td>       NA</td><td>       NA</td><td>⋯</td><td>       NA</td><td> NA</td><td>       NA</td><td>       NA</td><td>       NA</td><td>       NA</td><td>       NA</td><td>       NA</td><td> NA</td><td>       NA</td></tr>\n",
              "\t<tr><td>Naphthalene           </td><td>   NA</td><td>  NA</td><td>      NA</td><td>       NA</td><td>       NA</td><td>       NA</td><td>       NA</td><td>       NA</td><td>       NA</td><td>⋯</td><td>       NA</td><td> NA</td><td>       NA</td><td>       NA</td><td>       NA</td><td>       NA</td><td>       NA</td><td>       NA</td><td> NA</td><td>       NA</td></tr>\n",
              "\t<tr><td>o-Xylene              </td><td>   NA</td><td>  NA</td><td>      NA</td><td>       NA</td><td>       NA</td><td>       NA</td><td>       NA</td><td>       NA</td><td>       NA</td><td>⋯</td><td>       NA</td><td> NA</td><td>       NA</td><td>       NA</td><td>       NA</td><td>       NA</td><td>       NA</td><td>       NA</td><td> NA</td><td>       NA</td></tr>\n",
              "\t<tr><td>p-Isopropyltoluene    </td><td>   NA</td><td>  NA</td><td>      NA</td><td>       NA</td><td>       NA</td><td>       NA</td><td>       NA</td><td>       NA</td><td>       NA</td><td>⋯</td><td>       NA</td><td> NA</td><td>       NA</td><td>       NA</td><td>       NA</td><td>       NA</td><td>       NA</td><td>       NA</td><td> NA</td><td>       NA</td></tr>\n",
              "\t<tr><td>Propylbenzene         </td><td>   NA</td><td>  NA</td><td>      NA</td><td>       NA</td><td>       NA</td><td>       NA</td><td>       NA</td><td>       NA</td><td>       NA</td><td>⋯</td><td>       NA</td><td> NA</td><td>       NA</td><td>       NA</td><td>       NA</td><td>       NA</td><td>       NA</td><td>       NA</td><td> NA</td><td>       NA</td></tr>\n",
              "\t<tr><td>Styrene               </td><td>   NA</td><td>  NA</td><td>      NA</td><td>       NA</td><td>       NA</td><td>       NA</td><td>       NA</td><td>       NA</td><td>       NA</td><td>⋯</td><td>       NA</td><td> NA</td><td>       NA</td><td>       NA</td><td>       NA</td><td>       NA</td><td>       NA</td><td>       NA</td><td> NA</td><td>       NA</td></tr>\n",
              "\t<tr><td>Tetrachloroethylene   </td><td>   NA</td><td>  NA</td><td>      NA</td><td>       NA</td><td>       NA</td><td>       NA</td><td>       NA</td><td>       NA</td><td>       NA</td><td>⋯</td><td>       NA</td><td> NA</td><td>       NA</td><td>       NA</td><td>       NA</td><td>       NA</td><td>       NA</td><td>       NA</td><td> NA</td><td>       NA</td></tr>\n",
              "\t<tr><td>Tetrahydrofuran       </td><td>   NA</td><td>  NA</td><td>      NA</td><td>       NA</td><td>       NA</td><td>       NA</td><td>       NA</td><td>       NA</td><td>       NA</td><td>⋯</td><td>       NA</td><td> NA</td><td>       NA</td><td>       NA</td><td>       NA</td><td>       NA</td><td>       NA</td><td>       NA</td><td> NA</td><td>       NA</td></tr>\n",
              "\t<tr><td>Toluene               </td><td>   NA</td><td>  NA</td><td>      NA</td><td>       NA</td><td>       NA</td><td>       NA</td><td>       NA</td><td>       NA</td><td>       NA</td><td>⋯</td><td>       NA</td><td> NA</td><td>       NA</td><td>       NA</td><td>       NA</td><td>       NA</td><td>       NA</td><td>       NA</td><td> NA</td><td>       NA</td></tr>\n",
              "</tbody>\n",
              "</table>\n"
            ]
          },
          "metadata": {
            "tags": []
          }
        }
      ]
    },
    {
      "cell_type": "markdown",
      "metadata": {
        "id": "Uvrw5w_7puek",
        "colab_type": "text"
      },
      "source": [
        "* Blanks\n",
        "* Duplicates\n",
        "* Results from 2018 by location\n",
        "* Results from 2020 by location\n",
        "* map for each location? 2018 and 2020\n",
        "* differences in setbacks for other rounds?\n",
        "* differences in pre-covid vs. post-covid\n",
        "* Omniscent data comparison \n",
        "* TCEQ data"
      ]
    }
  ]
}
